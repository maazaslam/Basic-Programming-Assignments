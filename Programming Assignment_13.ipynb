{
 "cells": [
  {
   "cell_type": "markdown",
   "id": "9c7ff9ef",
   "metadata": {},
   "source": [
    "# Basic Python Programming Assignment 13"
   ]
  },
  {
   "cell_type": "code",
   "execution_count": 15,
   "id": "d72c66e8",
   "metadata": {},
   "outputs": [
    {
     "name": "stdout",
     "output_type": "stream",
     "text": [
      "Enter the value of d: 100,150,180\n",
      "18,22,24 "
     ]
    }
   ],
   "source": [
    "'''Q1. Write a program that calculates and prints the value according to the given formula:\n",
    "Q = Square root of [(2 * C * D)/H]\n",
    "Following are the fixed values of C and H:\n",
    "C is 50. H is 30.\n",
    "D is the variable whose values should be input to your program in a comma-separated\n",
    "sequence.\n",
    "Example\n",
    "Let us assume the following comma separated input sequence is given to the program:\n",
    "100,150,180\n",
    "The output of the program should be:\n",
    "18,22,24'''\n",
    "\n",
    "import math\n",
    "c = 50\n",
    "h = 30\n",
    "d = input(\"Enter the value of d: \").split(\",\")\n",
    "\n",
    "for i in range(len(d)):\n",
    "    q = math.sqrt((2*c*int(d[i]))/h)\n",
    "    if i < len(d)-1:\n",
    "        print(int(q), end=\",\")\n",
    "    else:\n",
    "        print(int(q),end=\" \")"
   ]
  },
  {
   "cell_type": "code",
   "execution_count": 20,
   "id": "57ea0419",
   "metadata": {},
   "outputs": [
    {
     "name": "stdout",
     "output_type": "stream",
     "text": [
      "Row:3\n",
      "Column:5\n",
      "[[0, 0, 0, 0, 0], [0, 1, 2, 3, 4], [0, 2, 4, 6, 8]]\n"
     ]
    }
   ],
   "source": [
    "'''Q2. Write a program which takes 2 digits, X,Y as input and generates a 2-dimensional array. The\n",
    "element value in the i-th row and j-th column of the array should be i*j.\n",
    "Note: i=0,1.., X-1; j=0,1,¡Y-1.\n",
    "Example\n",
    "Suppose the following inputs are given to the program:\n",
    "3,5\n",
    "Then, the output of the program should be:\n",
    "[[0, 0, 0, 0, 0], [0, 1, 2, 3, 4], [0, 2, 4, 6, 8]]'''\n",
    "m,n=int(input(\"Row:\")),int(input(\"Column:\"))\n",
    "\n",
    "matrix=[[0 for col in range(n)] for row in range(m)]\n",
    "for row in range(m):\n",
    "    for col in range(n):\n",
    "        matrix[row][col]=row*col\n",
    "print(matrix)"
   ]
  },
  {
   "cell_type": "code",
   "execution_count": 24,
   "id": "5d86f9f4",
   "metadata": {},
   "outputs": [
    {
     "name": "stdout",
     "output_type": "stream",
     "text": [
      "Enter the wordswithout,hello,bag,world\n",
      "bag,hello,without,world\n"
     ]
    }
   ],
   "source": [
    "'''Q3. Write a program that accepts a comma separated sequence of words as input and prints the\n",
    "words in a comma-separated sequence after sorting them alphabetically.\n",
    "Suppose the following input is supplied to the program:\n",
    "without,hello,bag,world\n",
    "Then, the output should be:\n",
    "bag,hello,without,world'''\n",
    "\n",
    "unsorted_words = input(\"Enter the words\").split(',')\n",
    "\n",
    "sorted_word = sorted(unsorted_words)\n",
    "print(\",\".join(sorted_word))"
   ]
  },
  {
   "cell_type": "code",
   "execution_count": 34,
   "id": "473c9ca0",
   "metadata": {},
   "outputs": [
    {
     "name": "stdout",
     "output_type": "stream",
     "text": [
      "again and hello makes perfect practice world "
     ]
    }
   ],
   "source": [
    "'''Q4. Write a program that accepts a sequence of whitespace separated words as input and prints\n",
    "the words after removing all duplicate words and sorting them alphanumerically.\n",
    "Suppose the following input is supplied to the program:\n",
    "hello world and practice makes perfect and hello world again\n",
    "Then, the output should be:\n",
    "again and hello makes perfect practice world'''\n",
    "\n",
    "sen = \"hello world and practice makes perfect and hello world again\".split(\" \")\n",
    "sen = set(sen)\n",
    "for i in sorted(sen):\n",
    "    print(i, end= \" \")"
   ]
  },
  {
   "cell_type": "code",
   "execution_count": 39,
   "id": "b700011a",
   "metadata": {},
   "outputs": [
    {
     "name": "stdout",
     "output_type": "stream",
     "text": [
      "LETTERS 10\n",
      "DIGITS 3\n"
     ]
    }
   ],
   "source": [
    "'''Q5. Write a program that accepts a sentence and calculate the number of letters and digits.\n",
    "Suppose the following input is supplied to the program:\n",
    "hello world! 123\n",
    "Then, the output should be:\n",
    "LETTERS 10\n",
    "\n",
    "DIGITS 3'''\n",
    "\n",
    "s = \"hello world! 123\"\n",
    "digits = 0\n",
    "letters = 0\n",
    "for i in s:\n",
    "    if i.isnumeric():\n",
    "        digits+=1\n",
    "    elif i.isalpha():\n",
    "        letters+=1\n",
    "    else:\n",
    "        pass\n",
    "print(\"LETTERS\", letters)\n",
    "print(\"DIGITS\", digits)"
   ]
  },
  {
   "cell_type": "code",
   "execution_count": 67,
   "id": "e5118ec6",
   "metadata": {
    "scrolled": false
   },
   "outputs": [
    {
     "name": "stdout",
     "output_type": "stream",
     "text": [
      "Enter password to check: ABd1234@1,a F1#,2w3E*,2We3345\n",
      "['ABd1234@1', 'a F1#', '2w3E*', '2We3345']\n",
      "Valid password ABd1234@1\n"
     ]
    }
   ],
   "source": [
    "'''Q6. A website requires the users to input username and password to register. Write a program to\n",
    "check the validity of password input by users.\n",
    "Following are the criteria for checking the password:\n",
    "1. At least 1 letter between [a-z]\n",
    "2. At least 1 number between [0-9]\n",
    "1. At least 1 letter between [A-Z]\n",
    "3. At least 1 character from [$#@]\n",
    "4. Minimum length of transaction password: 6\n",
    "5. Maximum length of transaction password: 12\n",
    "Your program should accept a sequence of comma separated passwords and will check them\n",
    "according to the above criteria. Passwords that match the criteria are to be printed, each\n",
    "separated by a comma.\n",
    "Example\n",
    "If the following passwords are given as input to the program:\n",
    "ABd1234@1,a F1#,2w3E*,2We3345\n",
    "Then, the output of the program should be:\n",
    "ABd1234@1'''\n",
    "def Valid_password(password):\n",
    "    lower = 0\n",
    "    upper = 0\n",
    "    num = 0\n",
    "    sc = 0\n",
    "    spl_char = [\"$\", \"#\", \"@\"]\n",
    "    if len(password)<=12 and len(password)>=6:\n",
    "        for p in password:\n",
    "            if p.islower():\n",
    "                lower +=1\n",
    "                \n",
    "            elif p.isupper():\n",
    "                upper +=1\n",
    "                \n",
    "            elif p.isnumeric():\n",
    "                num +=1\n",
    "                \n",
    "            elif p in spl_char:\n",
    "                sc +=1\n",
    "    if(lower>=1 and upper>=1 and num>=1 and sc>=1):\n",
    "        print('Valid password',password)\n",
    "    else:\n",
    "        pass\n",
    "    \n",
    "passwords = input(\"Enter password to check: \").split(\",\")\n",
    "print(passwords)\n",
    "\n",
    "for i in passwords:\n",
    "    Valid_password(i)\n"
   ]
  }
 ],
 "metadata": {
  "kernelspec": {
   "display_name": "Python 3",
   "language": "python",
   "name": "python3"
  },
  "language_info": {
   "codemirror_mode": {
    "name": "ipython",
    "version": 3
   },
   "file_extension": ".py",
   "mimetype": "text/x-python",
   "name": "python",
   "nbconvert_exporter": "python",
   "pygments_lexer": "ipython3",
   "version": "3.8.8"
  }
 },
 "nbformat": 4,
 "nbformat_minor": 5
}
