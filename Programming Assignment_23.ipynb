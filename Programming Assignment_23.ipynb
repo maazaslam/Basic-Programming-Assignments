{
 "cells": [
  {
   "cell_type": "markdown",
   "id": "1e35fad7",
   "metadata": {},
   "source": [
    "# Basic Python Programming Assignment 23"
   ]
  },
  {
   "cell_type": "code",
   "execution_count": 3,
   "id": "24665033",
   "metadata": {},
   "outputs": [
    {
     "name": "stdout",
     "output_type": "stream",
     "text": [
      "True\n",
      "False\n",
      "True\n",
      "False\n",
      "True\n"
     ]
    }
   ],
   "source": [
    "'''Q1. Create a function that takes a number as an argument and returns True or False depending on whether the number is symmetrical or not. A number is symmetrical when it is the same as its reverse.\n",
    "Examples\n",
    "is_symmetrical(7227) ➞ True\n",
    "\n",
    "is_symmetrical(12567) ➞ False\n",
    "\n",
    "is_symmetrical(44444444) ➞ True\n",
    "\n",
    "is_symmetrical(9939) ➞ False\n",
    "\n",
    "is_symmetrical(1112111) ➞ True'''\n",
    "\n",
    "def is_symmetrical(num):\n",
    "    a = str(num)\n",
    "    b = a[::-1]\n",
    "    if a == b:\n",
    "        print(True)\n",
    "    else:\n",
    "        print(False)\n",
    "\n",
    "is_symmetrical(7227)\n",
    "is_symmetrical(12567)\n",
    "is_symmetrical(44444444)\n",
    "is_symmetrical(9939)\n",
    "is_symmetrical(1112111)"
   ]
  },
  {
   "cell_type": "code",
   "execution_count": 5,
   "id": "e6374371",
   "metadata": {},
   "outputs": [
    {
     "name": "stdout",
     "output_type": "stream",
     "text": [
      "6\n",
      "24\n",
      "0\n",
      "-20\n"
     ]
    }
   ],
   "source": [
    "'''Q2. Given a string of numbers separated by a comma and space, return the product of the numbers.\n",
    "Examples\n",
    "multiply_nums(\"2, 3\") ➞ 6\n",
    "\n",
    "multiply_nums(\"1, 2, 3, 4\") ➞ 24\n",
    "\n",
    "multiply_nums(\"54, 75, 453, 0\") ➞ 0\n",
    "\n",
    "multiply_nums(\"10, -2\") ➞ -20'''\n",
    "\n",
    "def multiply_nums(string):\n",
    "    l = string.split(\", \")\n",
    "    mul = 1\n",
    "    for i in l:\n",
    "        mul = mul * int(i)\n",
    "    print(mul)\n",
    "\n",
    "multiply_nums(\"2, 3\")\n",
    "multiply_nums(\"1, 2, 3, 4\")\n",
    "multiply_nums(\"54, 75, 453, 0\")\n",
    "multiply_nums(\"10, -2\")"
   ]
  },
  {
   "cell_type": "code",
   "execution_count": 18,
   "id": "bf37adec",
   "metadata": {},
   "outputs": [
    {
     "name": "stdout",
     "output_type": "stream",
     "text": [
      "811181\n",
      "416649\n",
      "9414\n"
     ]
    }
   ],
   "source": [
    "'''Q3. Create a function that squares every digit of a number.\n",
    "Examples\n",
    "square_digits(9119) ➞ 811181\n",
    "\n",
    "square_digits(2483) ➞ 416649\n",
    "\n",
    "square_digits(3212) ➞ 9414\n",
    "Notes\n",
    "The function receives an integer and must return an integer.'''\n",
    "\n",
    "def square_digits(number):\n",
    "    s = str(number)\n",
    "    for i in s:\n",
    "        mul = int(i)*int(i)\n",
    "        print(mul, end = \"\")\n",
    "    print()\n",
    "square_digits(9119)        \n",
    "square_digits(2483)\n",
    "square_digits(3212)\n"
   ]
  },
  {
   "cell_type": "code",
   "execution_count": 19,
   "id": "a1992d0c",
   "metadata": {},
   "outputs": [
    {
     "name": "stdout",
     "output_type": "stream",
     "text": [
      "[1, 3, 5]\n",
      "[4]\n",
      "[5, 7, 8, 9, 10, 15]\n",
      "[1, 2, 3]\n"
     ]
    }
   ],
   "source": [
    "'''Q4. Create a function that sorts a list and removes all duplicate items from it.\n",
    "Examples\n",
    "setify([1, 3, 3, 5, 5]) ➞ [1, 3, 5]\n",
    "\n",
    "setify([4, 4, 4, 4]) ➞ [4]\n",
    "\n",
    "setify([5, 7, 8, 9, 10, 15]) ➞ [5, 7, 8, 9, 10, 15]\n",
    "\n",
    "setify([3, 3, 3, 2, 1]) ➞ [1, 2, 3]'''\n",
    "\n",
    "def setify(lst):\n",
    "    lst = set(lst)\n",
    "    lst = list(lst)\n",
    "    return lst\n",
    "\n",
    "print(setify([1, 3, 3, 5, 5]))\n",
    "print(setify([4, 4, 4, 4]))\n",
    "print(setify([5, 7, 8, 9, 10, 15]))\n",
    "print(setify([3, 3, 3, 2, 1]))"
   ]
  },
  {
   "cell_type": "code",
   "execution_count": 20,
   "id": "29f7cb43",
   "metadata": {},
   "outputs": [
    {
     "name": "stdout",
     "output_type": "stream",
     "text": [
      "3\n",
      "3\n",
      "6\n"
     ]
    }
   ],
   "source": [
    "'''Q5. Create a function that returns the mean of all digits.\n",
    "Examples\n",
    "mean(42) ➞ 3\n",
    "\n",
    "mean(12345) ➞ 3\n",
    "\n",
    "mean(666) ➞ 6\n",
    "Notes\n",
    "•\tThe mean of all digits is the sum of digits / how many digits there are (e.g. mean of digits in 512 is (5+1+2)/3(number of digits) = 8/3=2).\n",
    "•\tThe mean will always be an integer.'''\n",
    "import statistics\n",
    "def mean(number):\n",
    "    l = []\n",
    "    for i in str(number):\n",
    "        l.append(int(i))\n",
    "\n",
    "    mean = statistics.mean(l)\n",
    "    return mean\n",
    "\n",
    "\n",
    "print(mean(42))\n",
    "print(mean(12345))\n",
    "print(mean(666))\n",
    "        \n",
    "        "
   ]
  },
  {
   "cell_type": "code",
   "execution_count": null,
   "id": "ff1426fb",
   "metadata": {},
   "outputs": [],
   "source": []
  }
 ],
 "metadata": {
  "kernelspec": {
   "display_name": "Python 3",
   "language": "python",
   "name": "python3"
  },
  "language_info": {
   "codemirror_mode": {
    "name": "ipython",
    "version": 3
   },
   "file_extension": ".py",
   "mimetype": "text/x-python",
   "name": "python",
   "nbconvert_exporter": "python",
   "pygments_lexer": "ipython3",
   "version": "3.8.8"
  }
 },
 "nbformat": 4,
 "nbformat_minor": 5
}
