{
 "cells": [
  {
   "cell_type": "code",
   "execution_count": 10,
   "metadata": {},
   "outputs": [
    {
     "name": "stdout",
     "output_type": "stream",
     "text": [
      "Enter a number to check for Disarium: 89\n",
      "89 The number is Disarium Number\n"
     ]
    }
   ],
   "source": [
    "'''Q1. Write a Python program to check if the given number is a Disarium Number?'''\n",
    "\n",
    "num = int(input(\"Enter a number to check for Disarium: \"))\n",
    "\n",
    "sum = 0 \n",
    "\n",
    "pow= len(str(num))\n",
    "\n",
    "x = num\n",
    "\n",
    "while x!=0:\n",
    "    rem = x % 10\n",
    "\n",
    "    a = rem**pow\n",
    "    \n",
    "    sum = int(sum + a)\n",
    "    \n",
    "    pow = pow -1\n",
    "    \n",
    "    x = int(x/10)\n",
    "\n",
    "if num == sum:\n",
    "    print(sum, \"The number is Disarium Number\")\n",
    "else:\n",
    "    print(\"Entered number is not Disarium Number\")"
   ]
  },
  {
   "cell_type": "code",
   "execution_count": 11,
   "metadata": {},
   "outputs": [
    {
     "name": "stdout",
     "output_type": "stream",
     "text": [
      "Disarium numbers between 1 to 100 are: \n",
      "1 2 3 4 5 6 7 8 9 89 "
     ]
    }
   ],
   "source": [
    "'''Q2. Write a Python program to print all disarium numbers between 1 to 100?'''\n",
    "\n",
    "dis_num = []\n",
    "\n",
    "for num in range(1,101):\n",
    "    sum =0 \n",
    "    pow= len(str(num))\n",
    "\n",
    "    x = num\n",
    "\n",
    "    while x!=0:\n",
    "        rem = x % 10\n",
    "\n",
    "        a = rem**pow\n",
    "    \n",
    "        sum = int(sum + a)\n",
    "    \n",
    "        pow = pow -1\n",
    "        \n",
    "        x = int(x/10)\n",
    "    if sum ==num:\n",
    "        dis_num.append(sum)\n",
    "print(\"Disarium numbers between 1 to 100 are: \")\n",
    "for i in dis_num:\n",
    "    print(i, end = \" \")\n",
    "\n",
    "    "
   ]
  },
  {
   "cell_type": "code",
   "execution_count": 12,
   "metadata": {},
   "outputs": [
    {
     "name": "stdout",
     "output_type": "stream",
     "text": [
      "Enter an Integer: 19\n",
      "19 is a Happy number\n"
     ]
    }
   ],
   "source": [
    "'''Q3. Write a Python program to check if the given number is Happy Number?'''\n",
    "\n",
    "def numSquareSum(n):\n",
    "    squareSum = 0\n",
    "    while(n):        \n",
    "        squareSum += (n % 10) * (n % 10)\n",
    "        n = int(n / 10)\n",
    "    return squareSum\n",
    "\n",
    "def isHappynumber(n):\n",
    "    slow = n\n",
    "    fast = n\n",
    "    while(True):\n",
    "        slow = numSquareSum(slow);\n",
    "        fast = numSquareSum(numSquareSum(fast))\n",
    "        if(slow != fast):\n",
    "            continue\n",
    "        else:\n",
    "            break\n",
    "\n",
    "\n",
    "    return (slow == 1);\n",
    "\n",
    "# Driver Code\n",
    "n = int(input(\"Enter an Integer: \"))\n",
    "if (isHappynumber(n)):\n",
    "    print(n , \"is a Happy number\")\n",
    "else:\n",
    "    print(n , \"is not a Happy number\")"
   ]
  },
  {
   "cell_type": "code",
   "execution_count": 1,
   "metadata": {},
   "outputs": [
    {
     "name": "stdout",
     "output_type": "stream",
     "text": [
      "The list of happy numbers between 1 and 100 are : \n",
      "1\n",
      "7\n",
      "10\n",
      "13\n",
      "19\n",
      "23\n",
      "28\n",
      "31\n",
      "32\n",
      "44\n",
      "49\n",
      "68\n",
      "70\n",
      "79\n",
      "82\n",
      "86\n",
      "91\n",
      "94\n",
      "97\n",
      "100\n"
     ]
    }
   ],
   "source": [
    "'''Q4. Write a Python program to print all happy numbers between 1 and 100?'''\n",
    "def check_happy_num(my_num):\n",
    "    remaining = sum_val = 0\n",
    "    while(my_num > 0):\n",
    "        remaining = my_num%10\n",
    "        sum_val = sum_val + (remaining*remaining)\n",
    "        my_num = my_num//10\n",
    "    return sum_val\n",
    "print(\"The list of happy numbers between 1 and 100 are : \")\n",
    "for i in range(1, 101):\n",
    "    my_result = i\n",
    "    while(my_result != 1 and my_result != 4):\n",
    "        my_result = check_happy_num(my_result)\n",
    "    if(my_result == 1):\n",
    "        print(i)"
   ]
  },
  {
   "cell_type": "code",
   "execution_count": 13,
   "metadata": {},
   "outputs": [
    {
     "name": "stdout",
     "output_type": "stream",
     "text": [
      "Enter a number to check if it's Harshad Number: 200\n",
      "200 is Harshad Number\n"
     ]
    }
   ],
   "source": [
    "'''Q5. Write a Python program to determine whether the given number is a Harshad Number?'''\n",
    "\n",
    "num = int(input(\"Enter a number to check if it's Harshad Number: \"))\n",
    "sum =0\n",
    "x = num\n",
    "for i in str(num):\n",
    "    sum = sum + int(i)\n",
    "\n",
    "if num%sum==0:\n",
    "    print(num, \"is Harshad Number\")\n",
    "else:\n",
    "    print(num, \"is not Harshad Number\")"
   ]
  },
  {
   "cell_type": "code",
   "execution_count": 1,
   "metadata": {},
   "outputs": [
    {
     "name": "stdout",
     "output_type": "stream",
     "text": [
      "Pronic numbers between 1 and 100: \n",
      "0\n",
      "2\n",
      "6\n",
      "12\n",
      "20\n",
      "30\n",
      "42\n",
      "56\n",
      "72\n",
      "90\n"
     ]
    }
   ],
   "source": [
    "'''Q6. Write a Python program to print all pronic numbers between 1 and 100?'''\n",
    "\n",
    "l = []\n",
    "for i in range(10):\n",
    "    num = i *(i+1)\n",
    "    l.append(num)\n",
    "\n",
    "print(\"Pronic numbers between 1 and 100: \")\n",
    "for i in l:\n",
    "    print(i)"
   ]
  }
 ],
 "metadata": {
  "kernelspec": {
   "display_name": "Python 3",
   "language": "python",
   "name": "python3"
  },
  "language_info": {
   "codemirror_mode": {
    "name": "ipython",
    "version": 3
   },
   "file_extension": ".py",
   "mimetype": "text/x-python",
   "name": "python",
   "nbconvert_exporter": "python",
   "pygments_lexer": "ipython3",
   "version": "3.8.3"
  }
 },
 "nbformat": 4,
 "nbformat_minor": 4
}
