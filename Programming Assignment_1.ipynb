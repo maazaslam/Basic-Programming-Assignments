{
 "cells": [
  {
   "cell_type": "code",
   "execution_count": 1,
   "metadata": {},
   "outputs": [
    {
     "name": "stdout",
     "output_type": "stream",
     "text": [
      "Hello Python\n"
     ]
    }
   ],
   "source": [
    "'''Q1. Write a Python program to print \"Hello Python\"?'''\n",
    "print(\"Hello Python\")"
   ]
  },
  {
   "cell_type": "code",
   "execution_count": 5,
   "metadata": {
    "scrolled": true
   },
   "outputs": [
    {
     "name": "stdout",
     "output_type": "stream",
     "text": [
      "Addition:  12 \n",
      "Division:  5.0\n"
     ]
    }
   ],
   "source": [
    "'''Q2. Write a Python program to do arithmetical operations addition and division? '''\n",
    "a,b=10,2\n",
    "print(\"Addition: \", a+b, \"\\nDivision: \",a/b)"
   ]
  },
  {
   "cell_type": "code",
   "execution_count": null,
   "metadata": {},
   "outputs": [],
   "source": [
    "'''Q3. Write a Python program to find the area of a triangle? '''\n",
    "print(\"Enter the sides of the triangle\")\n",
    "a=int(input(\"Enter the First side of triangle: \"))\n",
    "b=int(input(\"Enter the Second side of triangle: \"))\n",
    "c=int(input(\"Enter the Third side of triangle: \"))\n",
    "s=float((a+b+c)/2)\n",
    "area=float((s*(s-a)*(s-b)*(s-c)**0.5))\n",
    "print(\"The area of the Triangle is \", area)"
   ]
  },
  {
   "cell_type": "code",
   "execution_count": 19,
   "metadata": {
    "scrolled": true
   },
   "outputs": [
    {
     "name": "stdout",
     "output_type": "stream",
     "text": [
      "Enter the values of a and b 2 3\n",
      "a= 3 b= 2\n"
     ]
    }
   ],
   "source": [
    "'''Q4. Write a Python program to swap two variables? '''\n",
    "a,b= input(\"Enter the values of a and b \").split()\n",
    "a,b=b,a\n",
    "print(\"a=\",a,\"b=\",b)"
   ]
  },
  {
   "cell_type": "code",
   "execution_count": 24,
   "metadata": {},
   "outputs": [
    {
     "name": "stdout",
     "output_type": "stream",
     "text": [
      "8\n"
     ]
    }
   ],
   "source": [
    "'''Q5. Write a Python program to generate a random number? '''\n",
    "import random\n",
    "print(random.randint(0,9))"
   ]
  }
 ],
 "metadata": {
  "kernelspec": {
   "display_name": "Python 3",
   "language": "python",
   "name": "python3"
  },
  "language_info": {
   "codemirror_mode": {
    "name": "ipython",
    "version": 3
   },
   "file_extension": ".py",
   "mimetype": "text/x-python",
   "name": "python",
   "nbconvert_exporter": "python",
   "pygments_lexer": "ipython3",
   "version": "3.8.3"
  }
 },
 "nbformat": 4,
 "nbformat_minor": 4
}
