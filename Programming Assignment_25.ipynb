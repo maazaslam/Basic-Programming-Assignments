{
 "cells": [
  {
   "cell_type": "markdown",
   "id": "39ff4264",
   "metadata": {},
   "source": [
    "# Basic Python Programming Assignment 25"
   ]
  },
  {
   "cell_type": "code",
   "execution_count": 2,
   "id": "1854645b",
   "metadata": {},
   "outputs": [
    {
     "name": "stdout",
     "output_type": "stream",
     "text": [
      "2\n",
      "3\n",
      "0\n"
     ]
    }
   ],
   "source": [
    "'''Q1. Create a function that takes three integer arguments (a, b, c) and returns the amount of integers which are of equal value.\n",
    "Examples\n",
    "equal(3, 4, 3) ➞ 2\n",
    "\n",
    "equal(1, 1, 1) ➞ 3\n",
    "\n",
    "equal(3, 4, 1) ➞ 0 \n",
    "Notes\n",
    "Your function must return 0, 2 or 3.'''\n",
    "\n",
    "def equal(num1, num2, num3):\n",
    "    lst = [num1, num2, num3]\n",
    "    for i in lst:\n",
    "        count = 0\n",
    "        for j in lst:\n",
    "            if i == j:\n",
    "                count +=1\n",
    "    if count > 1:\n",
    "        print(count)\n",
    "    else:\n",
    "        print(0)\n",
    "    \n",
    "equal(3, 4, 3)\n",
    "equal(1, 1, 1)\n",
    "equal(3, 4, 1)"
   ]
  },
  {
   "cell_type": "code",
   "execution_count": 61,
   "id": "c5970464",
   "metadata": {},
   "outputs": [
    {
     "name": "stdout",
     "output_type": "stream",
     "text": [
      "[[\"B\", 2], [\"C\", 3], [\"D\", 1]]\n",
      "[[\"dislikes\", 3], [\"followers\", 10], [\"likes\", 2]]\n"
     ]
    }
   ],
   "source": [
    "'''Q2. Write a function that converts a dictionary into a list of keys-values tuples.\n",
    "Examples\n",
    "dict_to_list({\n",
    "  \"D\": 1,\n",
    "  \"B\": 2,\n",
    "  \"C\": 3\n",
    "}) ➞ [(\"B\", 2), (\"C\", 3), (\"D\", 1)]\n",
    "\n",
    "dict_to_list({\n",
    "  \"likes\": 2,\n",
    "  \"dislikes\": 3,\n",
    "  \"followers\": 10\n",
    "}) ➞ [(\"dislikes\", 3), (\"followers\", 10), (\"likes\", 2)]\n",
    "Notes\n",
    "Return the elements in the list in alphabetical order.\n",
    "'''\n",
    "import json\n",
    "def dict_to_list(dic):\n",
    "    lst = []\n",
    "    for key, value in dic.items():\n",
    "        temp = [key, value]\n",
    "        lst.append(temp)\n",
    "    lst = sorted(lst)\n",
    "    print(json.dumps(list(map(tuple,lst))))\n",
    "\n",
    "dict_to_list({\"D\": 1,\"B\": 2,\"C\": 3})\n",
    "dict_to_list({\"likes\": 2,  \"dislikes\": 3,  \"followers\": 10})"
   ]
  },
  {
   "cell_type": "code",
   "execution_count": 18,
   "id": "c41ca528",
   "metadata": {
    "scrolled": true
   },
   "outputs": [
    {
     "name": "stdout",
     "output_type": "stream",
     "text": [
      "{\"p\": \"P\", \"s\": \"S\"}\n",
      "{\"a\": \"A\", \"b\": \"B\", \"c\": \"C\"}\n",
      "{\"a\": \"A\", \"v\": \"V\", \"y\": \"Y\", \"z\": \"Z\"}\n"
     ]
    }
   ],
   "source": [
    "'''Q3. Write a function that creates a dictionary with each (key, value) pair being the (lower case, upper case) versions of a letter, respectively.\n",
    "Examples\n",
    "mapping([\"p\", \"s\"]) ➞ { \"p\": \"P\", \"s\": \"S\" }\n",
    "\n",
    "mapping([\"a\", \"b\", \"c\"]) ➞ { \"a\": \"A\", \"b\": \"B\", \"c\": \"C\" }\n",
    "\n",
    "mapping([\"a\", \"v\", \"y\", \"z\"]) ➞ { \"a\": \"A\", \"v\": \"V\", \"y\": \"Y\", \"z\": \"Z\" }\n",
    "Notes\n",
    "All of the letters in the input list will always be lowercase.'''\n",
    "import json\n",
    "def mapping(lst):\n",
    "    map_dict = {}\n",
    "    for i in lst:\n",
    "        map_dict[i] = i.upper()\n",
    "    \n",
    "    print(json.dumps(map_dict))\n",
    "\n",
    "mapping([\"p\", \"s\"])\n",
    "mapping([\"a\", \"b\", \"c\"])\n",
    "mapping([\"a\", \"v\", \"y\", \"z\"])"
   ]
  },
  {
   "cell_type": "code",
   "execution_count": 26,
   "id": "f28c02a7",
   "metadata": {},
   "outputs": [
    {
     "name": "stdout",
     "output_type": "stream",
     "text": [
      "\"upplus und bununus\"\n",
      "\"chooso cossorolo\"\n",
      "\"steffed jelepene peppers\"\n"
     ]
    }
   ],
   "source": [
    "'''Q4. Write a function, that replaces all vowels in a string with a specified vowel.\n",
    "Examples\n",
    "vow_replace(\"apples and bananas\", \"u\") ➞ \"upplus und bununus\"\n",
    "\n",
    "vow_replace(\"cheese casserole\", \"o\") ➞ \"chooso cossorolo\"\n",
    "\n",
    "vow_replace(\"stuffed jalapeno poppers\", \"e\") ➞ \"steffed jelepene peppers\"\n",
    "Notes\n",
    "All words will be lowercase. Y is not considered a vowel.'''\n",
    "\n",
    "def vow_replace(string1, string2):\n",
    "    vowel = [\"a\", 'e', 'i', 'o','u']\n",
    "    temp = list(string1)\n",
    "    for i in range(len(temp)):\n",
    "        if temp[i] in vowel:\n",
    "            temp[i] = string2\n",
    "    s = \"\".join(temp)\n",
    "    print(json.dumps(\"\".join(temp)))\n",
    "    \n",
    "vow_replace(\"apples and bananas\", \"u\")\n",
    "vow_replace(\"cheese casserole\", \"o\")\n",
    "vow_replace(\"stuffed jalapeno poppers\", \"e\")"
   ]
  },
  {
   "cell_type": "code",
   "execution_count": 55,
   "id": "36ecb963",
   "metadata": {},
   "outputs": [
    {
     "name": "stdout",
     "output_type": "stream",
     "text": [
      "To Be oR NoT To Be! \n",
      "THe LiTTLe meRmaiD \n",
      "oH wHaT a BeauTiFuL moRNiNg. \n"
     ]
    }
   ],
   "source": [
    "'''Q5. Create a function that takes a string as input and capitalizes a letter if its ASCII code is even and returns its lower case version if its ASCII code is odd.\n",
    "Examples\n",
    "ascii_capitalize(\"to be or not to be!\") ➞ \"To Be oR NoT To Be!\"\n",
    "\n",
    "ascii_capitalize(\"THE LITTLE MERMAID\") ➞ \"THe LiTTLe meRmaiD\"\n",
    "\n",
    "ascii_capitalize(\"Oh what a beautiful morning.\") ➞ \"oH wHaT a BeauTiFuL moRNiNg.\"'''\n",
    "\n",
    "def ascii_capitalize(string):\n",
    "    l = string.split(\" \")\n",
    "    for i in l:\n",
    "        for j in i:\n",
    "            if ord(j)%2 == 0:\n",
    "                print(j.upper(), end = \"\", sep = \"\")\n",
    "            else:\n",
    "                print(j.lower(), end = \"\", sep = \"\")\n",
    "        print(end = \" \")\n",
    "    print()\n",
    "        \n",
    "ascii_capitalize(\"to be or not to be!\")\n",
    "ascii_capitalize(\"THE LITTLE MERMAID\")\n",
    "ascii_capitalize(\"Oh what a beautiful morning.\")"
   ]
  }
 ],
 "metadata": {
  "kernelspec": {
   "display_name": "Python 3",
   "language": "python",
   "name": "python3"
  },
  "language_info": {
   "codemirror_mode": {
    "name": "ipython",
    "version": 3
   },
   "file_extension": ".py",
   "mimetype": "text/x-python",
   "name": "python",
   "nbconvert_exporter": "python",
   "pygments_lexer": "ipython3",
   "version": "3.8.8"
  }
 },
 "nbformat": 4,
 "nbformat_minor": 5
}
