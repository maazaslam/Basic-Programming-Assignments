{
 "cells": [
  {
   "cell_type": "markdown",
   "id": "3d63dca0",
   "metadata": {},
   "source": [
    "# Basic Python Programming Assignment 21"
   ]
  },
  {
   "cell_type": "code",
   "execution_count": 5,
   "id": "506ec138",
   "metadata": {},
   "outputs": [
    {
     "name": "stdout",
     "output_type": "stream",
     "text": [
      "[6, 7, 8, 9, 1]\n",
      "[6, 3, 23, 17, 10]\n",
      "[10, 20, 42, 6]\n",
      "No list has been selected\n"
     ]
    }
   ],
   "source": [
    "'''Q1. Write a function that takes a list and a number as arguments. Add the number to the end of the list, then remove the first element of the list. The function should then return the updated list.\n",
    "Examples\n",
    "next_in_line([5, 6, 7, 8, 9], 1) ➞ [6, 7, 8, 9, 1]\n",
    "\n",
    "next_in_line([7, 6, 3, 23, 17], 10) ➞ [6, 3, 23, 17, 10]\n",
    "\n",
    "next_in_line([1, 10, 20, 42 ], 6) ➞ [10, 20, 42, 6]\n",
    "\n",
    "next_in_line([], 6) ➞ \"No list has been selected\"'''\n",
    "\n",
    "def next_in_line(lst, append):\n",
    "    try:\n",
    "        lst.pop(0)\n",
    "        lst.append(append)\n",
    "        print(lst)\n",
    "    except:\n",
    "        print(\"No list has been selected\")\n",
    "\n",
    "next_in_line([5, 6, 7, 8, 9], 1)\n",
    "next_in_line([7, 6, 3, 23, 17], 10)\n",
    "next_in_line([1, 10, 20, 42 ], 6)\n",
    "next_in_line([], 6)\n"
   ]
  },
  {
   "cell_type": "code",
   "execution_count": 18,
   "id": "a18ebb26",
   "metadata": {},
   "outputs": [
    {
     "name": "stdout",
     "output_type": "stream",
     "text": [
      "65700\n",
      "62600\n"
     ]
    }
   ],
   "source": [
    "'''Q2. Create the function that takes a list of dictionaries and returns the sum of people's budgets.\n",
    "Examples\n",
    "get_budgets([\n",
    "  { \"name\": \"John\", \"age\": 21, \"budget\": 23000 },\n",
    "  { \"name\": \"Steve\",  \"age\": 32, \"budget\": 40000 },\n",
    "  { \"name\": \"Martin\",  \"age\": 16, \"budget\": 2700 }\n",
    "]) ➞ 65700\n",
    "\n",
    "get_budgets([\n",
    "  { \"name\": \"John\",  \"age\": 21, \"budget\": 29000 },\n",
    "  { \"name\": \"Steve\",  \"age\": 32, \"budget\": 32000 },\n",
    "  { \"name\": \"Martin\",  \"age\": 16, \"budget\": 1600 }\n",
    "]) ➞ 62600'''\n",
    "\n",
    "def get_budgets(list_dic):\n",
    "    sum = 0\n",
    "    for i in range(len(list_dic)):\n",
    "        sum = sum + list_dic[i][\"budget\"]\n",
    "    print(sum)\n",
    "\n",
    "#1\n",
    "get_budgets([\n",
    "  { \"name\": \"John\", \"age\": 21, \"budget\": 23000 },\n",
    "  { \"name\": \"Steve\",  \"age\": 32, \"budget\": 40000 },\n",
    "  { \"name\": \"Martin\",  \"age\": 16, \"budget\": 2700 }\n",
    "])\n",
    "#2\n",
    "get_budgets([\n",
    "  { \"name\": \"John\",  \"age\": 21, \"budget\": 29000 },\n",
    "  { \"name\": \"Steve\",  \"age\": 32, \"budget\": 32000 },\n",
    "  { \"name\": \"Martin\",  \"age\": 16, \"budget\": 1600 }\n",
    "])"
   ]
  },
  {
   "cell_type": "code",
   "execution_count": 19,
   "id": "ce43420f",
   "metadata": {},
   "outputs": [
    {
     "name": "stdout",
     "output_type": "stream",
     "text": [
      "ehllo\n",
      "abdeit\n",
      "acehkr\n",
      "eegk\n",
      "aacijprstv\n"
     ]
    }
   ],
   "source": [
    "'''Q3. Create a function that takes a string and returns a string with its letters in alphabetical order.\n",
    "Examples\n",
    "alphabet_soup(\"hello\") ➞ \"ehllo\"\n",
    "\n",
    "alphabet_soup(\"edabit\") ➞ \"abdeit\"\n",
    "\n",
    "alphabet_soup(\"hacker\") ➞ \"acehkr\"\n",
    "\n",
    "alphabet_soup(\"geek\") ➞ \"eegk\"\n",
    "\n",
    "alphabet_soup(\"javascript\") ➞ \"aacijprstv\"'''\n",
    "\n",
    "def alphabet_soup(string):\n",
    "    string = \"\".join(sorted(string))\n",
    "    print(string)\n",
    "\n",
    "alphabet_soup(\"hello\")\n",
    "alphabet_soup(\"edabit\")\n",
    "alphabet_soup(\"hacker\")\n",
    "alphabet_soup(\"geek\")\n",
    "alphabet_soup(\"javascript\")"
   ]
  },
  {
   "cell_type": "code",
   "execution_count": 24,
   "id": "df6e51dd",
   "metadata": {},
   "outputs": [
    {
     "name": "stdout",
     "output_type": "stream",
     "text": [
      "105.0\n",
      "15399.26\n",
      "2007316.26\n"
     ]
    }
   ],
   "source": [
    "'''Q4. Suppose that you invest $10,000 for 10 years at an interest rate of 6% compounded monthly. What will be the value of your investment at the end of the 10 year period?\n",
    "Create a function that accepts the principal p, the term in years t, the interest rate r, and the number of compounding periods per year n. The function returns the value at the end of term rounded to the nearest cent.\n",
    "For the example above:\n",
    "compound_interest(10000, 10, 0.06, 12) ➞ 18193.97\n",
    "Note that the interest rate is given as a decimal and n=12 because with monthly compounding there are 12 periods per year. Compounding can also be done annually, quarterly, weekly, or daily.\n",
    "Examples\n",
    "compound_interest(100, 1, 0.05, 1) ➞ 105.0\n",
    "\n",
    "compound_interest(3500, 15, 0.1, 4) ➞ 15399.26\n",
    "\n",
    "compound_interest(100000, 20, 0.15, 365) ➞ 2007316.26'''\n",
    "\n",
    "def compound_interest(principal, term_years, interest, compound_period):\n",
    "    value = principal*((1+(interest/compound_period))) **(compound_period*term_years)\n",
    "    print(round(value,2))\n",
    "\n",
    "compound_interest(100, 1, 0.05, 1)\n",
    "compound_interest(3500, 15, 0.1, 4)\n",
    "compound_interest(100000, 20, 0.15, 365)"
   ]
  },
  {
   "cell_type": "code",
   "execution_count": 27,
   "id": "5d48b251",
   "metadata": {},
   "outputs": [
    {
     "name": "stdout",
     "output_type": "stream",
     "text": [
      "[9, 2, 16]\n",
      "[81, 123]\n",
      "[10, 56, 20, 3]\n",
      "[1]\n"
     ]
    }
   ],
   "source": [
    "'''Q5. Write a function that takes a list of elements and returns only the integers.\n",
    "Examples\n",
    "return_only_integer([9, 2, \"space\", \"car\", \"lion\", 16]) ➞ [9, 2, 16]\n",
    "\n",
    "return_only_integer([\"hello\", 81, \"basketball\", 123, \"fox\"]) ➞ [81, 123]\n",
    "\n",
    "return_only_integer([10, \"121\", 56, 20, \"car\", 3, \"lion\"]) ➞ [10, 56, 20, 3]\n",
    "\n",
    "return_only_integer([\"String\",  True,  3.3,  1]) ➞ [1]'''\n",
    "\n",
    "def return_only_integer(lst):\n",
    "    print([i for i in lst if type(i) == int])\n",
    "    \n",
    "return_only_integer([9, 2, \"space\", \"car\", \"lion\", 16])\n",
    "return_only_integer([\"hello\", 81, \"basketball\", 123, \"fox\"])\n",
    "return_only_integer([10, \"121\", 56, 20, \"car\", 3, \"lion\"])\n",
    "return_only_integer([\"String\",  True,  3.3,  1])"
   ]
  }
 ],
 "metadata": {
  "kernelspec": {
   "display_name": "Python 3",
   "language": "python",
   "name": "python3"
  },
  "language_info": {
   "codemirror_mode": {
    "name": "ipython",
    "version": 3
   },
   "file_extension": ".py",
   "mimetype": "text/x-python",
   "name": "python",
   "nbconvert_exporter": "python",
   "pygments_lexer": "ipython3",
   "version": "3.8.8"
  }
 },
 "nbformat": 4,
 "nbformat_minor": 5
}
