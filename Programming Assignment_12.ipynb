{
 "cells": [
  {
   "cell_type": "markdown",
   "id": "0b29f0a5",
   "metadata": {},
   "source": [
    "# Basic Python Programming Assignment 12"
   ]
  },
  {
   "cell_type": "code",
   "execution_count": 15,
   "id": "01c55cce",
   "metadata": {},
   "outputs": [
    {
     "name": "stdout",
     "output_type": "stream",
     "text": [
      "Unique values in dictionary are: {1, 2, 5, 6, 7, 8, 10, 11, 12}\n"
     ]
    }
   ],
   "source": [
    "'''Q1. Write a Python program to Extract Unique values dictionary values?'''\n",
    "\n",
    "def unique_val(dic):\n",
    "    s = set()\n",
    "    for key in test_dict.values():\n",
    "        for val in key:\n",
    "            s.add(val)\n",
    "    return s\n",
    "\n",
    "\n",
    "\n",
    "\n",
    "test_dict = {'abc' : [5, 6, 7, 8],\n",
    "             'cde' : [10, 11, 7, 5],\n",
    "             'fgh' : [6, 12, 10, 8],\n",
    "             'ijk' : [1, 2, 5]}\n",
    "\n",
    "print(\"Unique values in dictionary are:\",unique_val(test_dict))"
   ]
  },
  {
   "cell_type": "code",
   "execution_count": 17,
   "id": "5b8e03dd",
   "metadata": {},
   "outputs": [
    {
     "name": "stdout",
     "output_type": "stream",
     "text": [
      "Sum: 600\n"
     ]
    }
   ],
   "source": [
    "'''Q2. Write a Python program to find the sum of all items in a dictionary?'''\n",
    "\n",
    "def return_sum(dic):\n",
    "    sum = 0\n",
    "    for i in dic:\n",
    "        sum = sum + dic[i]\n",
    "    \n",
    "    return sum\n",
    "\n",
    "dic = {'a':100, 'b' : 200, 'c' : 300}\n",
    "print(\"Sum:\",return_sum(dic))"
   ]
  },
  {
   "cell_type": "code",
   "execution_count": 26,
   "id": "e03ed07a",
   "metadata": {},
   "outputs": [
    {
     "name": "stdout",
     "output_type": "stream",
     "text": [
      "None\n",
      "{'a': 100, 'b': 200, 'c': 300, 'e': 100, 'f': 200, 'g': 300}\n"
     ]
    }
   ],
   "source": [
    "'''Q3. Write a Python program to Merging two Dictionaries?'''\n",
    "def Merge(dic1, dic2):\n",
    "    return(dic1.update(dic2))\n",
    "\n",
    "\n",
    "dic1 = {'a':100, 'b' : 200, 'c' : 300}\n",
    "dic2 = {'e':100, 'f' : 200, 'g' : 300}\n",
    "\n",
    "print(Merge(dic1, dic2))\n",
    "print(dic1)"
   ]
  },
  {
   "cell_type": "code",
   "execution_count": 38,
   "id": "575e08c1",
   "metadata": {},
   "outputs": [
    {
     "name": "stdout",
     "output_type": "stream",
     "text": [
      "The dictionary is : \n",
      "{'month_num': [1, 2, 3, 4, 5, 6], 'name_of_month': ['Jan', 'Feb', 'March', 'Apr', 'May', 'June']}\n",
      "The flattened dictionary is: \n",
      "{1: 'Jan', 2: 'Feb', 3: 'March', 4: 'Apr', 5: 'May', 6: 'June'}\n"
     ]
    }
   ],
   "source": [
    "'''Q4. Write a Python program to convert key-values list to flat dictionary?'''\n",
    "\n",
    "my_dict = {'month_num' : [1, 2, 3, 4, 5, 6], 'name_of_month' : ['Jan', 'Feb', 'March', 'Apr', 'May', 'June']}\n",
    "\n",
    "print(\"The dictionary is : \")\n",
    "print(my_dict)\n",
    "\n",
    "my_result = dict(zip(my_dict['month_num'], my_dict['name_of_month']))\n",
    "\n",
    "print(\"The flattened dictionary is: \")\n",
    "print(my_result)"
   ]
  },
  {
   "cell_type": "code",
   "execution_count": 83,
   "id": "13ebf4d6",
   "metadata": {},
   "outputs": [
    {
     "name": "stdout",
     "output_type": "stream",
     "text": [
      "Ordered Dictionary: OrderedDict([('March', '3'), ('January', '1'), ('February', '2')])\n"
     ]
    }
   ],
   "source": [
    "'''Q5. Write a Python program to insertion at the beginning in OrderedDict?'''\n",
    "from collections import OrderedDict\n",
    "\n",
    "iniordered_dict = OrderedDict([('January', '1'), ('February', '2')])\n",
    "\n",
    "iniordered_dict.update({\"March\": \"3\"})\n",
    "iniordered_dict.move_to_end(\"March\", last = False)\n",
    "\n",
    "print(\"Ordered Dictionary:\", iniordered_dict)\n"
   ]
  },
  {
   "cell_type": "code",
   "execution_count": 91,
   "id": "9fa9faea",
   "metadata": {},
   "outputs": [
    {
     "name": "stdout",
     "output_type": "stream",
     "text": [
      "true\n"
     ]
    }
   ],
   "source": [
    "'''Q6. Write a Python program to check order of character in string using OrderedDict()?'''\n",
    "from collections import OrderedDict \n",
    "  \n",
    "def checkOrder(input, pattern): \n",
    "      \n",
    "    dict = OrderedDict.fromkeys(input) \n",
    "    ptrlen = 0\n",
    "    for key,value in dict.items(): \n",
    "        if (key == pattern[ptrlen]): \n",
    "            ptrlen = ptrlen + 1\n",
    "        if (ptrlen == (len(pattern))): \n",
    "            return 'true'\n",
    "  \n",
    "    return 'false'\n",
    "\n",
    "input = 'engineers rock'\n",
    "pattern = 'er'\n",
    "print (checkOrder(input,pattern))"
   ]
  },
  {
   "cell_type": "code",
   "execution_count": 2,
   "id": "b79729d4",
   "metadata": {
    "scrolled": true
   },
   "outputs": [
    {
     "name": "stdout",
     "output_type": "stream",
     "text": [
      "Type k for keys or v for values\n",
      "Sort by Keys or Valuesv\n",
      "Values are\n",
      "2 12 18 24 56 323 "
     ]
    }
   ],
   "source": [
    "'''Q7. Write a Python program to sort Python Dictionaries by Key or Value?'''\n",
    "def by_keys(key_value):\n",
    "   \n",
    "    print (\"Keys are\")\n",
    "\n",
    "    for i in sorted (key_value.keys()) :\n",
    "         print(i, end = \" \")\n",
    "            \n",
    "def by_values(key_value):\n",
    "    print(\"Values are\")\n",
    "    \n",
    "    for values in sorted(key_value.values()):\n",
    "        print(values, end = \" \")\n",
    "    \n",
    "\n",
    "\n",
    "key_value ={}   \n",
    "\n",
    "key_value[2] = 56      \n",
    "key_value[1] = 2\n",
    "key_value[5] = 12\n",
    "key_value[4] = 24\n",
    "key_value[6] = 18     \n",
    "key_value[3] = 323\n",
    "\n",
    "print(\"Type k for keys or v for values\")\n",
    "x = input(\"Sort by Keys or Values\")\n",
    "if x == \"k\":\n",
    "    by_keys(key_value)\n",
    "else:\n",
    "    by_values(key_value)"
   ]
  }
 ],
 "metadata": {
  "kernelspec": {
   "display_name": "Python 3",
   "language": "python",
   "name": "python3"
  },
  "language_info": {
   "codemirror_mode": {
    "name": "ipython",
    "version": 3
   },
   "file_extension": ".py",
   "mimetype": "text/x-python",
   "name": "python",
   "nbconvert_exporter": "python",
   "pygments_lexer": "ipython3",
   "version": "3.8.8"
  }
 },
 "nbformat": 4,
 "nbformat_minor": 5
}
