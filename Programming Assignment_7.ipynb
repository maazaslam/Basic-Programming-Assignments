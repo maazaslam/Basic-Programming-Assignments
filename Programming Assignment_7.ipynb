{
 "cells": [
  {
   "cell_type": "code",
   "execution_count": 3,
   "metadata": {},
   "outputs": [
    {
     "name": "stdout",
     "output_type": "stream",
     "text": [
      "Enter the numbers to find sum off: 1 2 3\n",
      "Your array elements are:  ['1', '2', '3']\n",
      "The sum of the array elements are: 6\n"
     ]
    }
   ],
   "source": [
    "'''Q1. Write a Python Program to find sum of array? '''\n",
    "\n",
    "arr= input(\"Enter the numbers to find sum off: \").split(\" \")\n",
    "print(\"Your array elements are: \", arr)\n",
    "add = 0\n",
    "for i in arr:\n",
    "    add = int(i) + add\n",
    "print(\"The sum of the array elements are:\", add)"
   ]
  },
  {
   "cell_type": "code",
   "execution_count": 2,
   "metadata": {},
   "outputs": [
    {
     "name": "stdout",
     "output_type": "stream",
     "text": [
      "Enter the numbers: 85 96 99 101 58 2 1 0 65 77\n",
      "Your array elements are:  [85, 96, 99, 101, 58, 2, 1, 0, 65, 77]\n",
      "The largest number among the array is: 101\n"
     ]
    }
   ],
   "source": [
    "'''Q2. Write a Python Program to find largest element in an array?'''\n",
    "\n",
    "x = input(\"Enter the numbers: \").split(\" \")\n",
    "\n",
    "\n",
    "#typecasting to interge\n",
    "for i in range(len(x)):\n",
    "    x[i]= int(x[i])\n",
    "\n",
    "    \n",
    "#finding largest among the array\n",
    "lar = x[0]\n",
    "for i in range(1, len(x)):\n",
    "    if lar < x[i]:\n",
    "        lar = x[i]\n",
    "    elif lar > x[i]:\n",
    "        pass\n",
    "    else:\n",
    "        pass\n",
    "\n",
    "print(\"Your array elements are: \", x)\n",
    "print(\"The largest number among the array is:\", lar)\n",
    "        \n"
   ]
  },
  {
   "cell_type": "code",
   "execution_count": 20,
   "metadata": {},
   "outputs": [
    {
     "name": "stdout",
     "output_type": "stream",
     "text": [
      "Array before rotation:  [1, 2, 3, 4, 5, 6, 7]\n",
      "Array after rotation:   [2, 3, 4, 5, 6, 7, 1]\n"
     ]
    }
   ],
   "source": [
    "'''Q3. Write a Python Program for array rotation?'''\n",
    "\n",
    "def array_rotation(arr, shift):\n",
    "    for i in range(shift):\n",
    "        temp = arr[0]\n",
    "        \n",
    "        for j in range(len(arr)-1):\n",
    "            arr[j] = arr[j+1]\n",
    "            \n",
    "        arr[len(arr)-1] = temp\n",
    "        \n",
    "        return arr\n",
    "\n",
    "arr = [1,2,3,4,5,6,7]\n",
    "shift = 2\n",
    "print(\"Array before rotation: \", arr)\n",
    "\n",
    "array_rotated = array_rotation(arr,shift)\n",
    "\n",
    "print(\"Array after rotation:  \", array_rotated)"
   ]
  },
  {
   "cell_type": "code",
   "execution_count": 15,
   "metadata": {},
   "outputs": [
    {
     "name": "stdout",
     "output_type": "stream",
     "text": [
      "Array before rotation: [1, 2, 3, 4, 5, 6, 7]\n",
      "Array after rotation:  [6, 7, 1, 2, 3, 4, 5]\n"
     ]
    }
   ],
   "source": [
    "'''Q4. Write a Python Program to Split the array and add the first part to the end?'''\n",
    "\n",
    "def right_rotation(arr, shift):\n",
    "    for i in range(shift):\n",
    "        temp = arr[len(arr)-1] \n",
    "        \n",
    "        for j in range(len(arr)-1,0,-1):\n",
    "            arr[j] = arr[j-1]\n",
    "            \n",
    "        arr[0] = temp\n",
    "        \n",
    "    return arr\n",
    "\n",
    "arr = [1,2,3,4,5,6,7]\n",
    "shift = 2\n",
    "\n",
    "print(\"Array before rotation:\", arr)\n",
    "\n",
    "rotated_arr = right_rotation(arr,shift)\n",
    "\n",
    "print(\"Array after rotation: \", rotated_arr)\n",
    "    "
   ]
  },
  {
   "cell_type": "code",
   "execution_count": 60,
   "metadata": {},
   "outputs": [
    {
     "name": "stdout",
     "output_type": "stream",
     "text": [
      "Enter your numbers to check if they are Monotic: 4 57 96 1\n",
      "False\n"
     ]
    }
   ],
   "source": [
    "'''Q5. Write a Python Program to check if given array is Monotonic?'''\n",
    "\n",
    "a = input(\"Enter your numbers to check if they are Monotic: \").split(\" \")\n",
    "for i in range(len(a)):\n",
    "    a[i] = int(a[i])   \n",
    "    \n",
    "\n",
    "def monotic_greater(a):\n",
    "    res = True\n",
    "    for i in range(len(a)-1):\n",
    "        if a[i]>=a[i+1]:\n",
    "            res = True\n",
    "        else:\n",
    "            res = False\n",
    "        \n",
    "    return res\n",
    "def monotic_smaller(a):\n",
    "    res = True\n",
    "    for i in range(len(a)-1):\n",
    "        if a[i]<=a[i+1]:\n",
    "            res = True\n",
    "        else:\n",
    "            res = False\n",
    "    return res\n",
    "\n",
    "\n",
    "if a[0]>=a[1]:\n",
    "    print(monotic_greater(a))\n",
    "elif a[0]<=a[1]:\n",
    "    print(monotic_smaller(a))"
   ]
  },
  {
   "cell_type": "code",
   "execution_count": null,
   "metadata": {},
   "outputs": [],
   "source": []
  }
 ],
 "metadata": {
  "kernelspec": {
   "display_name": "Python 3",
   "language": "python",
   "name": "python3"
  },
  "language_info": {
   "codemirror_mode": {
    "name": "ipython",
    "version": 3
   },
   "file_extension": ".py",
   "mimetype": "text/x-python",
   "name": "python",
   "nbconvert_exporter": "python",
   "pygments_lexer": "ipython3",
   "version": "3.8.3"
  }
 },
 "nbformat": 4,
 "nbformat_minor": 4
}
