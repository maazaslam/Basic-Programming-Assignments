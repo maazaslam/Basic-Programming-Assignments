{
 "cells": [
  {
   "cell_type": "code",
   "execution_count": 6,
   "metadata": {},
   "outputs": [
    {
     "name": "stdout",
     "output_type": "stream",
     "text": [
      "Enter the first number: 3\n",
      "Enter the second number: 4\n",
      "The LCM of  3  and  4  is  12\n"
     ]
    }
   ],
   "source": [
    "'''Q1. Write a Python Program to Find LCM?'''\n",
    "num1=int(input(\"Enter the first number: \"))\n",
    "num2=int(input(\"Enter the second number: \"))\n",
    "if num1 > num2:\n",
    "       greater = num1\n",
    "else:\n",
    "    greater = num2\n",
    "\n",
    "while(True):\n",
    "    if((greater % num1 == 0) and (greater % num2 == 0)):\n",
    "        lcm = greater\n",
    "        break\n",
    "    greater += 1\n",
    "print(\"The LCM of \",num1,\" and \",num2, \" is \", lcm)\n",
    "\n"
   ]
  },
  {
   "cell_type": "code",
   "execution_count": 25,
   "metadata": {},
   "outputs": [
    {
     "name": "stdout",
     "output_type": "stream",
     "text": [
      "Enter the first number: 30\n",
      "Enter the second number: 10\n",
      "HCF of 30 and 10 is 10\n"
     ]
    }
   ],
   "source": [
    "'''Q2. Write a Python Program to Find HCF?'''\n",
    "x=int(input(\"Enter the first number: \"))\n",
    "y=int(input(\"Enter the second number: \"))\n",
    "if x > y:\n",
    "        smaller = y\n",
    "else:\n",
    "    smaller = x\n",
    "for i in range(1, smaller+1):\n",
    "    if((x % i == 0) and (y % i == 0)):\n",
    "        hcf = i\n",
    "        \n",
    "print(\"HCF of\" , x, \"and\", y, \"is\",hcf)"
   ]
  },
  {
   "cell_type": "code",
   "execution_count": 1,
   "metadata": {},
   "outputs": [
    {
     "name": "stdout",
     "output_type": "stream",
     "text": [
      "The decimal value of 344 is:\n",
      "0b101011000 in binary.\n",
      "0o530 in octal.\n",
      "0x158 in hexadecimal.\n"
     ]
    }
   ],
   "source": [
    "'''Q3. Write a Python Program to Convert Decimal to Binary, Octal and Hexadecimal?'''\n",
    "dec_value = 344\n",
    "\n",
    "print(\"The decimal value of\", dec, \"is:\")\n",
    "print(bin(dec), \"in binary.\")\n",
    "print(oct(dec), \"in octal.\")\n",
    "print(hex(dec), \"in hexadecimal.\")"
   ]
  },
  {
   "cell_type": "code",
   "execution_count": 2,
   "metadata": {},
   "outputs": [
    {
     "name": "stdout",
     "output_type": "stream",
     "text": [
      "Enter the character to find the ASCII value d\n",
      "ASCII:  100\n"
     ]
    }
   ],
   "source": [
    "'''Q4. Write a Python Program to find ASCII value of a character?'''\n",
    "ascii_value=input(\"Enter the character to find the ASCII value \")\n",
    "print(\"ASCII: \", ord(ascii_value))"
   ]
  },
  {
   "cell_type": "code",
   "execution_count": 6,
   "metadata": {},
   "outputs": [
    {
     "name": "stdout",
     "output_type": "stream",
     "text": [
      "Enter the first number: 3\n",
      "Enter the second number: 6\n",
      "Type '+' to add, '-' to subtract, '*' to multiply and '/' to divide: +\n",
      "After adding 9.0\n"
     ]
    }
   ],
   "source": [
    "'''Q5. Write a Python Program to Make a Simple Calculator with 4 basic mathematical operations?'''\n",
    "a=float(input(\"Enter the first number: \"))\n",
    "b=float(input(\"Enter the second number: \"))\n",
    "oper=input(\"Type '+' to add, '-' to subtract, '*' to multiply and '/' to divide: \")\n",
    "if oper=='+':\n",
    "    print(\"After adding\", a+b)\n",
    "elif oper=='-':\n",
    "    print(\"After subracting\", a-b)\n",
    "elif oper=='*':\n",
    "    print(\"After multiplying\", a*b)\n",
    "else:\n",
    "    print(\"After dividing\", a/b)"
   ]
  }
 ],
 "metadata": {
  "kernelspec": {
   "display_name": "Python 3",
   "language": "python",
   "name": "python3"
  },
  "language_info": {
   "codemirror_mode": {
    "name": "ipython",
    "version": 3
   },
   "file_extension": ".py",
   "mimetype": "text/x-python",
   "name": "python",
   "nbconvert_exporter": "python",
   "pygments_lexer": "ipython3",
   "version": "3.8.3"
  }
 },
 "nbformat": 4,
 "nbformat_minor": 4
}
