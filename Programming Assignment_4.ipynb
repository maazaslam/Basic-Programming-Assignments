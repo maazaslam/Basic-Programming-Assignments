{
 "cells": [
  {
   "cell_type": "code",
   "execution_count": 5,
   "metadata": {},
   "outputs": [
    {
     "name": "stdout",
     "output_type": "stream",
     "text": [
      "Enter the number to find factorial: 9\n",
      "1\n",
      "2\n",
      "6\n",
      "24\n",
      "120\n",
      "720\n",
      "5040\n",
      "40320\n",
      "362880\n",
      "362880\n"
     ]
    }
   ],
   "source": [
    "'''Q1. Write a Python Program to Find the Factorial of a Number?'''\n",
    "num= int(input(\"Enter the number to find factorial: \"))\n",
    "a=1\n",
    "for i in range(1,num+1):\n",
    "    a=a*i\n",
    "print(a)"
   ]
  },
  {
   "cell_type": "code",
   "execution_count": 7,
   "metadata": {
    "scrolled": true
   },
   "outputs": [
    {
     "name": "stdout",
     "output_type": "stream",
     "text": [
      "Number you want multiplicaiton table for 9\n",
      "9 * 1 = 9\n",
      "9 * 2 = 18\n",
      "9 * 3 = 27\n",
      "9 * 4 = 36\n",
      "9 * 5 = 45\n",
      "9 * 6 = 54\n",
      "9 * 7 = 63\n",
      "9 * 8 = 72\n",
      "9 * 9 = 81\n",
      "9 * 10 = 90\n"
     ]
    }
   ],
   "source": [
    "'''Write a Python Program to Display the multiplication table? '''\n",
    "multi=int(input(\"Number you want multiplicaiton table for \"))\n",
    "for i in range(1,11):\n",
    "    table=i*multi\n",
    "    print(multi,\"*\",i,\"=\",table)"
   ]
  },
  {
   "cell_type": "code",
   "execution_count": null,
   "metadata": {
    "scrolled": true
   },
   "outputs": [],
   "source": [
    "'''Q3. Write a Python Program to Print the Fibonacci Sequence? '''\n",
    "z=1\n",
    "x=1\n",
    "print(z)\n",
    "print(x)\n",
    "for i in range(10):\n",
    "    x=x+z\n",
    "    print(x)\n",
    "    z=x-z"
   ]
  },
  {
   "cell_type": "code",
   "execution_count": 5,
   "metadata": {},
   "outputs": [
    {
     "name": "stdout",
     "output_type": "stream",
     "text": [
      "Enter the number to check if it is Armstrong Number 407\n",
      "407  is an Armstrong number\n"
     ]
    }
   ],
   "source": [
    "'''Q4. Write a Python Program to Check Armstrong Number? '''\n",
    "num=int(input(\"Enter the number to check if it is Armstrong Number \"))\n",
    "sum=0\n",
    "temp=num\n",
    "while(temp>0):\n",
    "    digit=temp%10\n",
    "    sum+=digit**3\n",
    "    temp//=10\n",
    "if num==sum:\n",
    "    print(num,\" is an Armstrong number\")\n",
    "\n",
    "else:\n",
    "    print(\"Not an Armstrong number\")"
   ]
  },
  {
   "cell_type": "code",
   "execution_count": 8,
   "metadata": {},
   "outputs": [
    {
     "name": "stdout",
     "output_type": "stream",
     "text": [
      "153\n",
      "370\n",
      "371\n",
      "407\n",
      "1634\n",
      "8208\n",
      "9474\n"
     ]
    }
   ],
   "source": [
    "'''Q5.Write a Python Program to Find Armstrong Number in an Interval? '''\n",
    "lower = 100\n",
    "upper = 10000\n",
    "\n",
    "for num in range(lower, upper + 1):\n",
    "   order = len(str(num))\n",
    "   sum = 0\n",
    "   temp = num\n",
    "   while temp > 0:\n",
    "       digit = temp % 10\n",
    "       sum += digit ** order\n",
    "       temp //= 10\n",
    "\n",
    "   if num == sum:\n",
    "       print(num)"
   ]
  },
  {
   "cell_type": "code",
   "execution_count": 15,
   "metadata": {},
   "outputs": [
    {
     "name": "stdout",
     "output_type": "stream",
     "text": [
      "The sum of Natural number till 50 is: 1275\n"
     ]
    }
   ],
   "source": [
    "'''Q6. Write a Python Program to Find the Sum of Natural Numbers?'''\n",
    "limit=50\n",
    "sum=0\n",
    "for i in range(1,limit+1):\n",
    "    sum+=i\n",
    "print(\"The sum of Natural number till 50 is:\",sum)"
   ]
  }
 ],
 "metadata": {
  "kernelspec": {
   "display_name": "Python 3",
   "language": "python",
   "name": "python3"
  }
 },
 "nbformat": 4,
 "nbformat_minor": 4
}
