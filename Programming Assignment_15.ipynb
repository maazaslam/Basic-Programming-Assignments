{
 "cells": [
  {
   "cell_type": "markdown",
   "id": "0adea8c2",
   "metadata": {},
   "source": [
    "# Basic Python Programming Assignment 15"
   ]
  },
  {
   "cell_type": "code",
   "execution_count": 6,
   "id": "24106951",
   "metadata": {},
   "outputs": [
    {
     "name": "stdout",
     "output_type": "stream",
     "text": [
      "Enter the number: 100\n",
      "0,35,70\n"
     ]
    }
   ],
   "source": [
    "'''Q1. Please write a program using generator to print the numbers which can be divisible by 5 and\n",
    "7 between 0 and n in comma separated form while n is input by console.\n",
    "Example:\n",
    "If the following n is given as input to the program:\n",
    "100\n",
    "Then, the output of the program should be:\n",
    "0,35,70'''\n",
    "\n",
    "def Num_Gen(num):\n",
    "        for i in range(0, num):\n",
    "            if i % 7 == 0 and i % 5 == 0:\n",
    "                yield i\n",
    "\n",
    "num = int(input(\"Enter the number: \"))\n",
    "l = []\n",
    "for j in Num_Gen(num):    \n",
    "    l.append(str(j))\n",
    "print(\",\".join(l))"
   ]
  },
  {
   "cell_type": "code",
   "execution_count": 9,
   "id": "86275d32",
   "metadata": {},
   "outputs": [
    {
     "name": "stdout",
     "output_type": "stream",
     "text": [
      "Enter a number:10\n",
      "0,2,4,6,8,10\n"
     ]
    }
   ],
   "source": [
    "'''Q2. Please write a program using generator to print the even numbers between 0 and n in comma\n",
    "separated form while n is input by console.\n",
    "Example:\n",
    "If the following :n is given as input to the program:\n",
    "10\n",
    "Then, the output of the program should be:\n",
    "0,2,4,6,8,10'''\n",
    "\n",
    "def even_gen(num):\n",
    "    for i in range(0,num+1):\n",
    "        if i%2 == 0 :\n",
    "            yield i\n",
    "\n",
    "n = int(input(\"Enter a number:\"))\n",
    "l = []\n",
    "for j in even_gen(n):\n",
    "    l.append(str(j))\n",
    "print(\",\".join(l))"
   ]
  },
  {
   "cell_type": "code",
   "execution_count": 36,
   "id": "f240e459",
   "metadata": {},
   "outputs": [
    {
     "name": "stdout",
     "output_type": "stream",
     "text": [
      "Enter the range: 8\n",
      "1,1,2,3,5,8,13\n"
     ]
    }
   ],
   "source": [
    "'''Q3. The Fibonacci Sequence is computed based on the following formula:\n",
    "f(n)=0 if n=0\n",
    "f(n)=1 if n=1\n",
    "f(n)=f(n-1)+f(n-2) if n&gt;1\n",
    "Please write a program using list comprehension to print the Fibonacci Sequence in comma\n",
    "separated form with a given n input by console.\n",
    "Example:\n",
    "If the following n is given as input to the program:\n",
    "7\n",
    "\n",
    "Then, the output of the program should be:\n",
    "1,1,2,3,5,8,13'''\n",
    "fibo = int(input(\"Enter the range: \"))\n",
    "series = [int((((1 + 5**0.5) / 2)**n - ((1 - 5**0.5) / 2)**n) / 5**0.5) for n in range(1, fibo)]\n",
    "l = []\n",
    "for j in series:\n",
    "    l.append(str(j))\n",
    "print(\",\".join(l))"
   ]
  },
  {
   "cell_type": "code",
   "execution_count": 11,
   "id": "1ad54d69",
   "metadata": {},
   "outputs": [
    {
     "name": "stdout",
     "output_type": "stream",
     "text": [
      "john\n"
     ]
    }
   ],
   "source": [
    "'''Q4. Assuming that we have some email addresses in the &quot;username@companyname.com&quot; format,\n",
    "please write program to print the user name of a given email address. Both user names and\n",
    "company names are composed of letters only.\n",
    "Example:\n",
    "If the following email address is given as input to the program:\n",
    "john@google.com\n",
    "Then, the output of the program should be:\n",
    "john'''\n",
    "\n",
    "def username(email):\n",
    "    name = []\n",
    "    for i in email:b\n",
    "        if i!=\"@\":\n",
    "            name.append(i)\n",
    "        else:\n",
    "            break\n",
    "    return \"\".join(name)\n",
    "print(username(\"john@google.com\"))"
   ]
  },
  {
   "cell_type": "code",
   "execution_count": 15,
   "id": "96804f8e",
   "metadata": {},
   "outputs": [
    {
     "name": "stdout",
     "output_type": "stream",
     "text": [
      "12\n"
     ]
    }
   ],
   "source": [
    "'''Q5. Define a class named Shape and its subclass Square. The Square class has an init function which takes a length as argument. Both classes have a area function which can print the area of the shape where Shape's area is 0 by default'''\n",
    "\n",
    "class Shape(object):\n",
    "    def __init__(self):\n",
    "        pass\n",
    "\n",
    "    def area(self):\n",
    "        return 0\n",
    "\n",
    "class Square(Shape):\n",
    "    def __init__(self, l ,h):\n",
    "        Shape.__init__(self)\n",
    "        self.length = l\n",
    "        self.width = h\n",
    "\n",
    "    def area(self):\n",
    "        return self.length*self.width\n",
    "\n",
    "aSquare= Square(3,4)\n",
    "print(aSquare.area())"
   ]
  }
 ],
 "metadata": {
  "kernelspec": {
   "display_name": "Python 3",
   "language": "python",
   "name": "python3"
  },
  "language_info": {
   "codemirror_mode": {
    "name": "ipython",
    "version": 3
   },
   "file_extension": ".py",
   "mimetype": "text/x-python",
   "name": "python",
   "nbconvert_exporter": "python",
   "pygments_lexer": "ipython3",
   "version": "3.8.8"
  }
 },
 "nbformat": 4,
 "nbformat_minor": 5
}
