{
 "cells": [
  {
   "cell_type": "markdown",
   "id": "bae9a59c",
   "metadata": {},
   "source": [
    "# Basic Python Programming Assignment 14"
   ]
  },
  {
   "cell_type": "code",
   "execution_count": 57,
   "id": "a0ef9adc",
   "metadata": {
    "scrolled": true
   },
   "outputs": [
    {
     "name": "stdout",
     "output_type": "stream",
     "text": [
      "0 7 14 21 28 35 42 49 56 63 70 77 84 91 98 "
     ]
    }
   ],
   "source": [
    "'''Q1. Define a class with a generator which can iterate the numbers, which are divisible by\n",
    "7, between a given range 0 and n.'''\n",
    "\n",
    "class iterator(object):\n",
    "    \"\"\"docstring for iterator\"\"\"\n",
    "    def __init__(self, n):\n",
    "        super(iterator, self).__init__()\n",
    "        self.n = n\n",
    "\n",
    "    def divBySeven(self):\n",
    "        for i in range(0, self.n):\n",
    "            if i % 7 == 0:\n",
    "                yield i\n",
    "\n",
    "for num in iterator(100).divBySeven():\n",
    "    print(num, end = \" \")"
   ]
  },
  {
   "cell_type": "code",
   "execution_count": 30,
   "id": "8825fd75",
   "metadata": {},
   "outputs": [
    {
     "name": "stdout",
     "output_type": "stream",
     "text": [
      "2 : 2\n",
      "3 : 1\n",
      "3? : 1\n",
      "New : 1\n",
      "Python : 5\n",
      "Read : 1\n",
      "and : 1\n",
      "between : 1\n",
      "choosing : 1\n",
      "or : 2\n",
      "to : 1\n"
     ]
    }
   ],
   "source": [
    "'''Q2. Write a program to compute the frequency of the words from the input. The output\n",
    "should output after sorting the key alphanumerically.\n",
    "Suppose the following input is supplied to the program:\n",
    "New to Python or choosing between Python 2 and Python 3? Read Python 2 or\n",
    "Python 3.\n",
    "Then, the output should be:\n",
    "2:2\n",
    "3.:1\n",
    "3?:1\n",
    "New:1\n",
    "Python:5\n",
    "Read:1\n",
    "and:1\n",
    "between:1\n",
    "choosing:1\n",
    "or:2\n",
    "to:1'''\n",
    "\n",
    "a = \"New to Python or choosing between Python 2 and Python 3? Read Python 2 or Python 3\".split(' ')\n",
    "b = {}\n",
    "for i in range(len(a)):\n",
    "    b[a[i]] = b.get(a[i],0)+1\n",
    "empty = []\n",
    "for key, value in b.items():\n",
    "    temp = [key, value]\n",
    "    empty.append(temp)\n",
    "empty.sort()\n",
    "for i in empty:\n",
    "    print(i[0],\":\",i[1])"
   ]
  },
  {
   "cell_type": "code",
   "execution_count": 36,
   "id": "023ae195",
   "metadata": {},
   "outputs": [
    {
     "name": "stdout",
     "output_type": "stream",
     "text": [
      "Male\n",
      "Female\n"
     ]
    }
   ],
   "source": [
    "'''Q3. Define a class Person and its two child classes: Male and Female. All classes have a\n",
    "method \"getGender\" which can print Male\" for Male class and \"Female\" for Female\n",
    "class.'''\n",
    "\n",
    "class Person:\n",
    "    def getGender(self):\n",
    "        return \"Unknown\"\n",
    "class Male(Person):\n",
    "    def getGender(self):\n",
    "        return \"Male\"\n",
    "class Female(Person):\n",
    "    def getGender(self):\n",
    "        return \"Female\"\n",
    "\n",
    "    \n",
    "m = Male()\n",
    "f = Female()\n",
    "\n",
    "print(m.getGender())\n",
    "print(f.getGender())"
   ]
  },
  {
   "cell_type": "code",
   "execution_count": 42,
   "id": "6c5d5efe",
   "metadata": {},
   "outputs": [
    {
     "name": "stdout",
     "output_type": "stream",
     "text": [
      "I Play Hockey\n",
      "I Play Football\n",
      "I Love Hockey\n",
      "I Love Football\n",
      "You Play Hockey\n",
      "You Play Football\n",
      "You Love Hockey\n",
      "You Love Football\n"
     ]
    }
   ],
   "source": [
    "'''Q4. Please write a program to generate all sentences where subject is in [\"I\", \"You\"] and verb is in [\"Play\", \"Love\"] and\n",
    "the object is in [\"Hockey\",\"Football\"]'''\n",
    "subjects=[\"I\", \"You\"]\n",
    "verbs=[\"Play\", \"Love\"]\n",
    "objects=[\"Hockey\",\"Football\"]\n",
    "for i in range(len(subjects)):\n",
    "    for j in range(len(verbs)):\n",
    "        for k in range(len(objects)):\n",
    "            sentence = subjects[i]+\" \"+verbs[j]+\" \"+objects[k]\n",
    "            print(sentence)\n"
   ]
  },
  {
   "cell_type": "code",
   "execution_count": 48,
   "id": "07fed71d",
   "metadata": {},
   "outputs": [
    {
     "name": "stdout",
     "output_type": "stream",
     "text": [
      "b'x\\x9c\\xcbH\\xcd\\xc9\\xc9W(\\xcf/\\xcaIQ\\xcc \\x82\\r\\x00\\xbd[\\x11\\xf5' 23\n",
      "b'hello world!hello world!hello world!hello world!' 48\n"
     ]
    }
   ],
   "source": [
    "'''Q5. Please write a program to compress and decompress the string \"hello world!hello world!!hwllo world!hello world!\"'''\n",
    "import zlib\n",
    "s = 'hello world!hello world!hello world!hello world!'\n",
    "y = bytes(s, 'utf-8')\n",
    "x = zlib.compress(y)\n",
    "print(x,len(x))\n",
    "print(zlib.decompress(x), len(zlib.decompress(x)))"
   ]
  },
  {
   "cell_type": "code",
   "execution_count": 53,
   "id": "c1a82df7",
   "metadata": {},
   "outputs": [
    {
     "name": "stdout",
     "output_type": "stream",
     "text": [
      "Element is present at index 3\n"
     ]
    }
   ],
   "source": [
    "'''Q6. Please write a binary search function which searches an item in a sorted list. The function should return the index of element to be searched in the list.'''\n",
    "def binary_search(arr, low, high, x):\n",
    " \n",
    "    if high >= low:\n",
    " \n",
    "        mid = (high + low) // 2\n",
    " \n",
    "        if arr[mid] == x:\n",
    "            return mid\n",
    " \n",
    "        elif arr[mid] > x:\n",
    "            return binary_search(arr, low, mid - 1, x)\n",
    "\n",
    "        else:\n",
    "            return binary_search(arr, mid + 1, high, x)\n",
    " \n",
    "    else:\n",
    "        return -1\n",
    " \n",
    "arr = sorted([ 10, 34, 24, 90, 50 ])\n",
    "x = 50\n",
    " \n",
    "# Function call\n",
    "result = binary_search(arr, 0, len(arr)-1, x)\n",
    " \n",
    "if result != -1:\n",
    "    print(\"Element is present at index\", str(result))\n",
    "else:\n",
    "    print(\"Element is not present in array\")\n"
   ]
  }
 ],
 "metadata": {
  "kernelspec": {
   "display_name": "Python 3",
   "language": "python",
   "name": "python3"
  },
  "language_info": {
   "codemirror_mode": {
    "name": "ipython",
    "version": 3
   },
   "file_extension": ".py",
   "mimetype": "text/x-python",
   "name": "python",
   "nbconvert_exporter": "python",
   "pygments_lexer": "ipython3",
   "version": "3.8.8"
  }
 },
 "nbformat": 4,
 "nbformat_minor": 5
}
