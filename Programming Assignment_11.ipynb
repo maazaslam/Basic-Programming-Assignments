{
 "cells": [
  {
   "cell_type": "markdown",
   "id": "0aebd9c9",
   "metadata": {},
   "source": [
    "# Basic Python Programming Assignment 11"
   ]
  },
  {
   "cell_type": "code",
   "execution_count": 3,
   "id": "591631df",
   "metadata": {},
   "outputs": [
    {
     "name": "stdout",
     "output_type": "stream",
     "text": [
      "Enter a number4\n",
      "Words which are greater than given length 4 is\n",
      " ['Jacob', 'Andrew', 'Chandler', 'Rachel', 'Charlie', 'Barney']\n"
     ]
    }
   ],
   "source": [
    "'''Q1. Write a Python program to find words which are greater than given length k?'''\n",
    "l = [\"Mark\", \"Jacob\", \"Andrew\", \"Chandler\", \"Ross\", \"Rachel\", \"Charlie\", \"Barney\"]\n",
    "x = int(input(\"Enter a number\"))\n",
    "words = []\n",
    "\n",
    "for i in l:\n",
    "    if len(i) > x:\n",
    "        words.append(i)\n",
    "\n",
    "print(\"Words which are greater than given length\", x, \"is\\n\",words)"
   ]
  },
  {
   "cell_type": "code",
   "execution_count": 4,
   "id": "c69cad93",
   "metadata": {},
   "outputs": [
    {
     "name": "stdout",
     "output_type": "stream",
     "text": [
      "Enter a number: 2\n",
      "ieuron\n"
     ]
    }
   ],
   "source": [
    "'''Q2. Write a Python program for removing i-th character from a string?'''\n",
    "\n",
    "word = \"iNeuron\"\n",
    "x = int(input(\"Enter a number: \"))\n",
    "print(word[:x-1]+word[x:])"
   ]
  },
  {
   "cell_type": "code",
   "execution_count": 12,
   "id": "4ebca145",
   "metadata": {},
   "outputs": [
    {
     "name": "stdout",
     "output_type": "stream",
     "text": [
      "Splitting: ['Full', 'Stack', 'Data', 'Science', 'Course']\n",
      "Joining: Full*Stack*Data*Science*Course\n"
     ]
    }
   ],
   "source": [
    "'''Q3. Write a Python program to split and join a string?'''\n",
    "\n",
    "sen = \"Full Stack Data Science Course\"\n",
    "l = sen.split(\" \")\n",
    "\n",
    "x = '*'.join(l)\n",
    "print('Splitting:', l)\n",
    "print(\"Joining:\", x)"
   ]
  },
  {
   "cell_type": "code",
   "execution_count": 14,
   "id": "e4d4eaea",
   "metadata": {},
   "outputs": [
    {
     "name": "stdout",
     "output_type": "stream",
     "text": [
      "Yes\n"
     ]
    }
   ],
   "source": [
    "'''Q4. Write a Python to check if a given string is binary string or not?'''\n",
    "\n",
    "def check(string) :\n",
    "    p = set(string)\n",
    "    s = {'0', '1'}\n",
    "    if s == p or p == {'0'} or p == {'1'}:\n",
    "        print(\"Yes\")\n",
    "    else :\n",
    "        print(\"No\")\n",
    "\n",
    "binary = \"10100001010\"\n",
    "check(binary)"
   ]
  },
  {
   "cell_type": "code",
   "execution_count": 15,
   "id": "b6469759",
   "metadata": {},
   "outputs": [
    {
     "name": "stdout",
     "output_type": "stream",
     "text": [
      "['Apple', 'Grapes', 'Mango', 'WaterMelon']\n"
     ]
    }
   ],
   "source": [
    "'''Q5. Write a Python program to find uncommon words from two Strings?'''\n",
    "def UncommonWords(A, B):\n",
    "    count = {}\n",
    "    for word in A.split():\n",
    "        count[word] = count.get(word, 0) + 1\n",
    "    for word in B.split():\n",
    "        count[word] = count.get(word, 0) + 1\n",
    "    return [word for word in count if count[word] == 1]\n",
    "  \n",
    "A = \"Apple Banana Grapes\"\n",
    "B = \"Banana Mango WaterMelon\"\n",
    "  \n",
    "print(UncommonWords(A, B))"
   ]
  },
  {
   "cell_type": "code",
   "execution_count": 20,
   "id": "c72eaa69",
   "metadata": {},
   "outputs": [
    {
     "name": "stdout",
     "output_type": "stream",
     "text": [
      "Duplicate Character in ' banana '\n",
      "a : 3\n",
      "n : 2\n"
     ]
    }
   ],
   "source": [
    "'''Q6. Write a Python to find all duplicate characters in string?'''\n",
    "B = \"Banana\"\n",
    "B = B.lower()\n",
    "count = {}\n",
    "print(\"Duplicate Character in\",\"'\",B,\"'\")\n",
    "for i in B:\n",
    "    count[i] = count.get(i, 0) + 1\n",
    "for i in count:\n",
    "    if count[i]>1:\n",
    "        print(i,\":\",count[i])\n",
    "    "
   ]
  },
  {
   "cell_type": "code",
   "execution_count": 24,
   "id": "0a75c1eb",
   "metadata": {},
   "outputs": [
    {
     "name": "stdout",
     "output_type": "stream",
     "text": [
      "!  has this special character\n",
      ")  has this special character\n",
      "(  has this special character\n",
      "`  has this special character\n"
     ]
    }
   ],
   "source": [
    "'''Q7. Write a Python Program to check if a string contains any special character?'''\n",
    "\n",
    "spl_char =[\"!\", \"@\", \"#\",\"$\", \"%\",\"^\",\"&\",\"*\",\")\",\"(\",\"}\",\"{\",\",\",\".\",\"?\",\"/\",\"`\"]\n",
    "string = \"Hello!)(`\"\n",
    "for i in string:\n",
    "    if i not in spl_char:\n",
    "        pass\n",
    "    else:\n",
    "        print(i, \" has this special character\")\n"
   ]
  }
 ],
 "metadata": {
  "kernelspec": {
   "display_name": "Python 3",
   "language": "python",
   "name": "python3"
  },
  "language_info": {
   "codemirror_mode": {
    "name": "ipython",
    "version": 3
   },
   "file_extension": ".py",
   "mimetype": "text/x-python",
   "name": "python",
   "nbconvert_exporter": "python",
   "pygments_lexer": "ipython3",
   "version": "3.8.8"
  }
 },
 "nbformat": 4,
 "nbformat_minor": 5
}
