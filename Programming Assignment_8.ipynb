{
 "cells": [
  {
   "cell_type": "code",
   "execution_count": 1,
   "metadata": {},
   "outputs": [
    {
     "name": "stdout",
     "output_type": "stream",
     "text": [
      "After adding matrix:\n",
      "[11, 13, 15]\n",
      "[17, 19, 21]\n",
      "[23, 25, 27]\n"
     ]
    }
   ],
   "source": [
    "'''Q1. Write a Python Program to Add Two Matrices?'''\n",
    "\n",
    "a = [[1,2,3],\n",
    "    [4,5,6],\n",
    "    [7,8,9]]\n",
    "\n",
    "b = [[10,11,12],\n",
    "    [13,14,15],\n",
    "    [16,17,18]]\n",
    "\n",
    "res = [[0,0,0],\n",
    "      [0,0,0],\n",
    "       [0,0,0]]\n",
    "for i in range(len(a)):\n",
    "    for j in range(len(a[i])):\n",
    "        res[i][j] = a[i][j] + b[i][j]\n",
    "\n",
    "\n",
    "print(\"After adding matrix:\",)\n",
    "for i in res:\n",
    "    print(i)\n"
   ]
  },
  {
   "cell_type": "code",
   "execution_count": 2,
   "metadata": {},
   "outputs": [
    {
     "name": "stdout",
     "output_type": "stream",
     "text": [
      "After multiplication\n",
      "[84, 90, 96]\n",
      "[201, 216, 231]\n",
      "[318, 342, 366]\n"
     ]
    }
   ],
   "source": [
    "'''Q2. Write a Python Program to Multiply Two Matrices?'''\n",
    "\n",
    "a = [[1,2,3],\n",
    "    [4,5,6],\n",
    "    [7,8,9]]\n",
    "\n",
    "b = [[10,11,12],\n",
    "    [13,14,15],\n",
    "    [16,17,18]]\n",
    "\n",
    "res = [[0,0,0],\n",
    "      [0,0,0],\n",
    "       [0,0,0]]\n",
    "# iterate through rows of a\n",
    "for i in range(len(a)):\n",
    "     # iterate through columns of b\n",
    "    for j in range(len(b[0])):\n",
    "        # iterate through rows of b\n",
    "        for k in range(len(b)):\n",
    "            res[i][j] += a[i][k] * b[k][j]\n",
    "\n",
    "print(\"After multiplication\")\n",
    "for i in res:\n",
    "    print(i)\n",
    "\n"
   ]
  },
  {
   "cell_type": "code",
   "execution_count": 3,
   "metadata": {},
   "outputs": [
    {
     "name": "stdout",
     "output_type": "stream",
     "text": [
      "Original Matix\n",
      "[1, 2, 3]\n",
      "[4, 5, 6]\n",
      "[7, 8, 9]\n",
      "After transpose \n",
      "Method1:\n",
      "[1, 4, 7]\n",
      "[2, 5, 8]\n",
      "[3, 6, 9]\n",
      "Method2:\n",
      "[1, 4, 7]\n",
      "[2, 5, 8]\n",
      "[3, 6, 9]\n"
     ]
    }
   ],
   "source": [
    "'''Q3. Write a Python Program to Transpose a Matrix?'''\n",
    "\n",
    "a = [[1,2,3],\n",
    "    [4,5,6],\n",
    "    [7,8,9]]\n",
    "tranp = [[0,0,0],\n",
    "        [0,0,0],\n",
    "        [0,0,0]]\n",
    "tranp1 = [[0,0,0],\n",
    "        [0,0,0],\n",
    "        [0,0,0]]\n",
    "\"\"\"\n",
    " Changes in indexes\n",
    "   i,j   i,j\n",
    "   0,0 - 0,0\n",
    "   0,1 - 1,0    \n",
    "   0,2 - 2,0\n",
    "   1,0 - 0,1\n",
    "   1,1 - 1,1\n",
    "   1,2 - 2,1\n",
    "   2,0 - 0,2\n",
    "   2,1 - 1,2\n",
    "   2,2 - 2,2\"\"\"\n",
    "print(\"Original Matix\")\n",
    "for i in a:\n",
    "    print(i)\n",
    "#Method1:\n",
    "incr = 0\n",
    "for i in range(len(a)):\n",
    "    for j in range(len(a[i])):\n",
    "            if incr == i:\n",
    "                tranp[i][j] = a[j][i]\n",
    "    incr+=1\n",
    "print(\"After transpose \\nMethod1:\")\n",
    "for i in tranp:\n",
    "    print(i)\n",
    "#Method2:\n",
    "for i in range(len(a)):\n",
    "    for j in range(len(a[i])):\n",
    "        tranp1[j][i] = a[i][j]\n",
    "\n",
    "print(\"Method2:\")        \n",
    "for i in tranp1:\n",
    "    print(i)\n"
   ]
  },
  {
   "cell_type": "code",
   "execution_count": 4,
   "metadata": {},
   "outputs": [
    {
     "name": "stdout",
     "output_type": "stream",
     "text": [
      "Type a Sentence: Ross, Rachel, Phoebe, Joey, Chandler, Monica, Janice\n",
      "Words after being sorted alphabetically:\n",
      "Chandler  Janice  Joey  Monica  Phoebe  Rachel  Ross  "
     ]
    }
   ],
   "source": [
    "'''Q4. Write a Python Program to Sort Words in Alphabetic Order?'''\n",
    "\n",
    "s = input(\"Type a Sentence: \")\n",
    "words = s.split(\", \")\n",
    "\n",
    "words.sort()\n",
    "print(\"Words after being sorted alphabetically:\")\n",
    "for i in words:\n",
    "    print(i, \"\", end = \" \")"
   ]
  },
  {
   "cell_type": "code",
   "execution_count": 5,
   "metadata": {},
   "outputs": [
    {
     "name": "stdout",
     "output_type": "stream",
     "text": [
      "Enter a string: \"Hello!!! How was your day?\"\n",
      "Hello How was your day\n"
     ]
    }
   ],
   "source": [
    "'''Q5. Write a Python Program to Remove Punctuation From a String?'''\n",
    "punctuations = '''!()-[]{};:'\"\\,<>./?@#$%^&*_~'''\n",
    "\n",
    "s = input(\"Enter a string: \")\n",
    "\n",
    "\n",
    "no_punctuations = \"\"\n",
    "for char in s:\n",
    "    if char not in punctuations:\n",
    "        no_punctuations = no_punctuations + char\n",
    "\n",
    "print(no_punctuations)"
   ]
  }
 ],
 "metadata": {
  "kernelspec": {
   "display_name": "Python 3",
   "language": "python",
   "name": "python3"
  },
  "language_info": {
   "codemirror_mode": {
    "name": "ipython",
    "version": 3
   },
   "file_extension": ".py",
   "mimetype": "text/x-python",
   "name": "python",
   "nbconvert_exporter": "python",
   "pygments_lexer": "ipython3",
   "version": "3.8.3"
  }
 },
 "nbformat": 4,
 "nbformat_minor": 4
}
