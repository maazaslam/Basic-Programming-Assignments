{
 "cells": [
  {
   "cell_type": "code",
   "execution_count": 6,
   "metadata": {},
   "outputs": [
    {
     "name": "stdout",
     "output_type": "stream",
     "text": [
      "Sum of given elements in a list are: 45\n"
     ]
    }
   ],
   "source": [
    "'''Q1. Write a Python program to find sum of elements in list?'''\n",
    "\n",
    "l = [1,2,3,4,5,6,7,8,9]\n",
    "sum = 0\n",
    "for i in range(len(l)):\n",
    "    sum += int(l[i])\n",
    "print(\"Sum of given elements in a list are:\", sum)"
   ]
  },
  {
   "cell_type": "code",
   "execution_count": 7,
   "metadata": {},
   "outputs": [
    {
     "name": "stdout",
     "output_type": "stream",
     "text": [
      "120\n"
     ]
    }
   ],
   "source": [
    "'''Q2. Write a Python program to Multiply all numbers in the list?'''\n",
    "\n",
    "l = [1,2,3,4,5]\n",
    "\n",
    "mul = 1\n",
    "for i in range(len(l)):\n",
    "      mul = l[i] * mul\n",
    "\n",
    "print(mul)"
   ]
  },
  {
   "cell_type": "code",
   "execution_count": 8,
   "metadata": {},
   "outputs": [
    {
     "name": "stdout",
     "output_type": "stream",
     "text": [
      "9\n"
     ]
    }
   ],
   "source": [
    "'''Q3. Write a Python program to find smallest number in a list?'''\n",
    "\n",
    "l = [23, 19, 9, 44, 35, 91, 99, 81, 92, 54, 39]\n",
    "small = l[0]\n",
    "\n",
    "for i in range(len(l)):\n",
    "    if small < l[i]:\n",
    "        pass\n",
    "    else:\n",
    "        small = l[i]\n",
    "print(small)"
   ]
  },
  {
   "cell_type": "code",
   "execution_count": 9,
   "metadata": {},
   "outputs": [
    {
     "name": "stdout",
     "output_type": "stream",
     "text": [
      "99\n"
     ]
    }
   ],
   "source": [
    "'''Q4. Write a Python program to find largest number in a list?'''\n",
    "l = [23, 19, 9, 44, 35, 91, 99, 81, 92, 54, 39]\n",
    "larg = l[0]\n",
    "\n",
    "for i in range(len(l)):\n",
    "    if larg > l[i]:\n",
    "        pass\n",
    "    else:\n",
    "        larg = l[i]\n",
    "print(larg)"
   ]
  },
  {
   "cell_type": "code",
   "execution_count": 12,
   "metadata": {},
   "outputs": [
    {
     "name": "stdout",
     "output_type": "stream",
     "text": [
      "Method1: Second Largest number is: 96\n",
      "Method2: Second Largest number is: 96\n"
     ]
    }
   ],
   "source": [
    "'''Q5. Write a Python program to find second largest number in a list?'''\n",
    "l = [23, 19, 9, 44, 35, 91,94,96, 94, 100, 100, 81, 92, 54, 39]\n",
    "\n",
    "#Method 1:\n",
    "l = list(set(l))\n",
    "l.sort()\n",
    "\n",
    "print(\"Method1: Second Largest number is:\", l[-2])\n",
    "\n",
    "\n",
    "#Method 2:\n",
    "large = l[0]\n",
    "sec_large = l[1]\n",
    "\n",
    "for i in range(len(l)):\n",
    "    if l[i] >= large:\n",
    "        large = l[i]\n",
    "for j in range(len(l)):\n",
    "    if l[j] < large and l[j]>sec_large:\n",
    "        sec_large = l[j]\n",
    "print(\"Method2: Second Largest number is:\", sec_large)"
   ]
  },
  {
   "cell_type": "code",
   "execution_count": 13,
   "metadata": {},
   "outputs": [
    {
     "name": "stdout",
     "output_type": "stream",
     "text": [
      "Unsorted list: [23, 19, 9, 44, 35, 91, 94, 96, 94, 100, 100, 81, 92, 54, 39]\n",
      "Sorted list: [9, 19, 23, 35, 39, 44, 54, 81, 91, 92, 94, 96, 100]\n",
      "Give a number to find N largest number: 3\n",
      "3 largest number is: 94\n"
     ]
    }
   ],
   "source": [
    "'''Q6. Write a Python program to find N largest number in a list?'''\n",
    "l = [23, 19, 9, 44, 35, 91,94,96, 94, 100, 100, 81, 92, 54, 39]\n",
    "print(\"Unsorted list:\",l)\n",
    "l = list(set(l))\n",
    "l.sort()\n",
    "print(\"Sorted list:\", l)\n",
    "n_lar = int(input(\"Give a number to find N largest number: \"))\n",
    "\n",
    "if n_lar > len(l):\n",
    "    print(\"Index out of range\")\n",
    "\n",
    "else:\n",
    "    print(n_lar, \"largest number is:\", l[-n_lar])\n",
    "    "
   ]
  },
  {
   "cell_type": "code",
   "execution_count": 14,
   "metadata": {},
   "outputs": [
    {
     "name": "stdout",
     "output_type": "stream",
     "text": [
      "Even numbers are: [44, 54, 92, 94, 96, 100]\n"
     ]
    }
   ],
   "source": [
    "'''Q7. Write a Python program to print even numbers in a list?'''\n",
    "l = [23, 19, 9, 44, 35, 91,94,96, 94, 100, 100, 81, 92, 54, 39]\n",
    "l = list(set(l))\n",
    "l.sort()\n",
    "even = []\n",
    "for i in l:\n",
    "    if i%2==0:\n",
    "        even.append(i)\n",
    "        \n",
    "print(\"Even numbers are:\",even)"
   ]
  },
  {
   "cell_type": "code",
   "execution_count": 15,
   "metadata": {},
   "outputs": [
    {
     "name": "stdout",
     "output_type": "stream",
     "text": [
      "Odd numbers are: [9, 19, 23, 35, 39, 81, 91]\n"
     ]
    }
   ],
   "source": [
    "'''Q8. Write a Python program to print odd numbers in a List?'''\n",
    "def odd_list(arr):\n",
    "    for i in arr:\n",
    "        if i%2 != 0:\n",
    "            odd.append(i)\n",
    "l = [23, 19, 9, 44, 35, 91,94,96, 94, 100, 100, 81, 92, 54, 39]\n",
    "l = list(set(l))\n",
    "l.sort()\n",
    "odd = []\n",
    "odd_list(l)\n",
    "print(\"Odd numbers are:\", odd)"
   ]
  },
  {
   "cell_type": "code",
   "execution_count": 18,
   "metadata": {},
   "outputs": [
    {
     "name": "stdout",
     "output_type": "stream",
     "text": [
      "[5, 6, 3, 9]\n"
     ]
    }
   ],
   "source": [
    "'''Q9. Write a Python program to Remove empty List from List?'''\n",
    "l = [5, 6, [], 3, [], [], 9]\n",
    "l = list(filter(None, l))\n",
    "print(l)"
   ]
  },
  {
   "cell_type": "code",
   "execution_count": 19,
   "metadata": {},
   "outputs": [
    {
     "name": "stdout",
     "output_type": "stream",
     "text": [
      "Original List: [4, 8, 2, 10, 15, 18]\n",
      "After Cloning: [4, 8, 2, 10, 15, 18]\n"
     ]
    }
   ],
   "source": [
    "'''Q10. Write a Python program to Cloning or Copying a list?'''\n",
    "def Cloning(li1):\n",
    "    li_copy = li1[:]\n",
    "    return li_copy\n",
    "  \n",
    "li1 = [4, 8, 2, 10, 15, 18]\n",
    "li2 = Cloning(li1)\n",
    "print(\"Original List:\", li1)\n",
    "print(\"After Cloning:\", li2)"
   ]
  },
  {
   "cell_type": "code",
   "execution_count": 26,
   "metadata": {},
   "outputs": [
    {
     "name": "stdout",
     "output_type": "stream",
     "text": [
      "Number to find occurrences in a list: 94\n"
     ]
    },
    {
     "data": {
      "text/plain": [
       "3"
      ]
     },
     "execution_count": 26,
     "metadata": {},
     "output_type": "execute_result"
    }
   ],
   "source": [
    "'''Q11. Write a Python program to Count occurrences of an element in a list?'''\n",
    "def count_number(l, x):\n",
    "    count = 0\n",
    "    for i in l:\n",
    "        if i == x:\n",
    "            count+=1\n",
    "    return count\n",
    "\n",
    "l = [23, 19, 9, 44, 35, 91,94,96, 94, 100, 100, 81, 92, 54, 94, 39]\n",
    "x = int(input(\"Number to find occurrences in a list: \"))\n",
    "\n",
    "count_number(l,x)"
   ]
  }
 ],
 "metadata": {
  "kernelspec": {
   "display_name": "Python 3",
   "language": "python",
   "name": "python3"
  },
  "language_info": {
   "codemirror_mode": {
    "name": "ipython",
    "version": 3
   },
   "file_extension": ".py",
   "mimetype": "text/x-python",
   "name": "python",
   "nbconvert_exporter": "python",
   "pygments_lexer": "ipython3",
   "version": "3.8.8"
  }
 },
 "nbformat": 4,
 "nbformat_minor": 4
}
