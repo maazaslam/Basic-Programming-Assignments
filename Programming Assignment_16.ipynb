{
 "cells": [
  {
   "cell_type": "markdown",
   "id": "9036a37a",
   "metadata": {},
   "source": [
    "# Basic Python Programming Assignment 16"
   ]
  },
  {
   "cell_type": "code",
   "execution_count": 8,
   "id": "c841b7ac",
   "metadata": {},
   "outputs": [
    {
     "name": "stdout",
     "output_type": "stream",
     "text": [
      "in... in... incredible?\n"
     ]
    }
   ],
   "source": [
    "'''Q1. Write a function that stutters a word as if someone is struggling to read it. The first two letters are repeated twice with an ellipsis ... and space after each, and then the word is pronounced with a question mark ?.\n",
    "Examples\n",
    "stutter(\"incredible\") ➞ \"in... in... incredible?\"\n",
    "\n",
    "stutter(\"enthusiastic\") ➞ \"en... en... enthusiastic?\"\n",
    "\n",
    "stutter(\"outstanding\") ➞ \"ou... ou... outstanding?\"\n",
    "'''\n",
    "def stutter(word):\n",
    "    for k in range(2):\n",
    "        for i in range(len(word)):\n",
    "            if i<=1:\n",
    "                print(word[i],  end = \"\")\n",
    "            elif i>1 and i<5:\n",
    "                print(\".\", end = \"\")\n",
    "        print(\" \", end = \"\")\n",
    "    print(word,\"?\", sep= \"\")\n",
    "\n",
    "    \n",
    "stutter(\"incredible\")\n"
   ]
  },
  {
   "cell_type": "code",
   "execution_count": 16,
   "id": "f87824ab",
   "metadata": {},
   "outputs": [
    {
     "name": "stdout",
     "output_type": "stream",
     "text": [
      "57.3\n"
     ]
    }
   ],
   "source": [
    "'''Q2. Create a function that takes an angle in radians and returns the corresponding angle in degrees rounded to one decimal place.\n",
    "Examples\n",
    "radians_to_degrees(1) ➞ 57.3\n",
    "\n",
    "radians_to_degrees(20) ➞ 1145.9\n",
    "\n",
    "radians_to_degrees(50) ➞ 2864.8\n",
    "\n",
    "'''\n",
    "import numpy as np\n",
    "\n",
    "def radians_to_degree(number):\n",
    "    deg = number * (180/np.pi) \n",
    "    \n",
    "    return format(deg, \".1f\")\n",
    "\n",
    "\n",
    "\n",
    "print(radians_to_degree(1))"
   ]
  },
  {
   "cell_type": "code",
   "execution_count": 25,
   "id": "425737f5",
   "metadata": {},
   "outputs": [
    {
     "name": "stdout",
     "output_type": "stream",
     "text": [
      "True\n"
     ]
    }
   ],
   "source": [
    "'''Q3. In this challenge, establish if a given integer num is a Curzon number. If 1 plus 2 elevated to num is exactly divisible by 1 plus 2 multiplied by num, then num is a Curzon number.\n",
    "Given a non-negative integer num, implement a function that returns True if num is a Curzon number, or False otherwise.\n",
    "Examples\n",
    "is_curzon(5) ➞ True\n",
    "# 2 ** 5 + 1 = 33\n",
    "# 2 * 5 + 1 = 11\n",
    "# 33 is a multiple of 11\n",
    "\n",
    "is_curzon(10) ➞ False\n",
    "# 2 ** 10 + 1 = 1025\n",
    "# 2 * 10 + 1 = 21\n",
    "# 1025 is not a multiple of 21\n",
    "\n",
    "is_curzon(14) ➞ True\n",
    "# 2 ** 14 + 1 = 16385\n",
    "# 2 * 14 + 1 = 29\n",
    "# 16385 is a multiple of 29\n",
    "'''\n",
    "\n",
    "def is_curzon(number):\n",
    "    a = 0\n",
    "    b = 0 \n",
    "    for i in range(2):\n",
    "        if i == 1:\n",
    "            a = 2 ** number + 1\n",
    "        else:\n",
    "            b = 2 * number + 1\n",
    "    if a%b == 0:\n",
    "        return True\n",
    "    else:\n",
    "        return False\n",
    "print(is_curzon(5))"
   ]
  },
  {
   "cell_type": "code",
   "execution_count": 9,
   "id": "a1083c6b",
   "metadata": {},
   "outputs": [
    {
     "name": "stdout",
     "output_type": "stream",
     "text": [
      "2.6\n"
     ]
    }
   ],
   "source": [
    "'''Q4. Given the side length x find the area of a hexagon.\n",
    " \n",
    "Examples\n",
    "area_of_hexagon(1) ➞ 2.6\n",
    "\n",
    "area_of_hexagon(2) ➞ 10.4\n",
    "\n",
    "area_of_hexagon(3) ➞ 23.4\n",
    "\n",
    "'''\n",
    "import math\n",
    "\n",
    "def area_of_hexagon(s):\n",
    "    Area = ((3*math.sqrt(3)) * s * s)/2\n",
    "    return round(Area, ndigits = 1)\n",
    "\n",
    "\n",
    "print(area_of_hexagon(1))"
   ]
  },
  {
   "cell_type": "code",
   "execution_count": 29,
   "id": "19cb5b2b",
   "metadata": {},
   "outputs": [
    {
     "name": "stdout",
     "output_type": "stream",
     "text": [
      "101"
     ]
    }
   ],
   "source": [
    "'''Q5. Create a function that returns a base-2 (binary) representation of a base-10 (decimal) string number. To convert is simple: ((2) means base-2 and (10) means base-10) 010101001(2) = 1 + 8 + 32 + 128.\n",
    "Going from right to left, the value of the most right bit is 1, now from that every bit to the left will be x2 the value, value of an 8 bit binary numbers are (256, 128, 64, 32, 16, 8, 4, 2, 1).\n",
    "Examples\n",
    "binary(1) ➞ \"1\"\n",
    "# 1*1 = 1\n",
    "\n",
    "binary(5) ➞ \"101\"\n",
    "# 1*1 + 1*4 = 5\n",
    "\n",
    "binary(10) ➞ \"1010\"\n",
    "# 1*2 + 1*8 = 10'''\n",
    "\n",
    "def binary(num):\n",
    "    if num >= 1:\n",
    "        binary(num // 2)\n",
    "        print(num % 2, end =\"\")\n",
    "\n",
    "binary(5)\n",
    "\n",
    "    "
   ]
  }
 ],
 "metadata": {
  "kernelspec": {
   "display_name": "Python 3",
   "language": "python",
   "name": "python3"
  },
  "language_info": {
   "codemirror_mode": {
    "name": "ipython",
    "version": 3
   },
   "file_extension": ".py",
   "mimetype": "text/x-python",
   "name": "python",
   "nbconvert_exporter": "python",
   "pygments_lexer": "ipython3",
   "version": "3.8.8"
  }
 },
 "nbformat": 4,
 "nbformat_minor": 5
}
