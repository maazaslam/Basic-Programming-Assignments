{
 "cells": [
  {
   "cell_type": "code",
   "execution_count": 4,
   "metadata": {},
   "outputs": [
    {
     "name": "stdout",
     "output_type": "stream",
     "text": [
      "Enter the km to convert it to miles: 12\n",
      "12.0  kms in miles is  7.452\n"
     ]
    }
   ],
   "source": [
    "'''Q1. Write a Python program to convert kilometers to miles? '''\n",
    "km= float(input(\"Enter the km to convert it to miles: \"))\n",
    "miles= km*0.621\n",
    "print(km, \" kms in miles is \",miles)\n"
   ]
  },
  {
   "cell_type": "code",
   "execution_count": 6,
   "metadata": {},
   "outputs": [
    {
     "name": "stdout",
     "output_type": "stream",
     "text": [
      "Enter the Celcius value: 15\n",
      "15.0  Celcius in Fahrenheit is:  59.0\n"
     ]
    }
   ],
   "source": [
    "'''Q2. Write a Python program to convert Celsius to Fahrenheit? '''\n",
    "cel=float(input(\"Enter the Celcius value: \"))\n",
    "fahr= (cel*9/5)+32\n",
    "print(cel, \" Celcius in Fahrenheit is: \",fahr)"
   ]
  },
  {
   "cell_type": "code",
   "execution_count": 7,
   "metadata": {},
   "outputs": [
    {
     "name": "stdout",
     "output_type": "stream",
     "text": [
      "Enter year: 2021\n",
      "Enter month: 03\n",
      "     March 2021\n",
      "Mo Tu We Th Fr Sa Su\n",
      " 1  2  3  4  5  6  7\n",
      " 8  9 10 11 12 13 14\n",
      "15 16 17 18 19 20 21\n",
      "22 23 24 25 26 27 28\n",
      "29 30 31\n",
      "\n"
     ]
    }
   ],
   "source": [
    "'''Q3. Write a Python program to display calendar? '''\n",
    "import calendar\n",
    "\n",
    "y=int(input(\"Enter year: \"))\n",
    "m=int(input(\"Enter month: \"))\n",
    "print(calendar.month(y,m))"
   ]
  },
  {
   "cell_type": "code",
   "execution_count": 11,
   "metadata": {},
   "outputs": [
    {
     "name": "stdout",
     "output_type": "stream",
     "text": [
      "The two possible answers are:\n",
      " 1. (-0.5-1.3228756555322954j) \n",
      " 2. (-0.5+1.3228756555322954j)\n"
     ]
    }
   ],
   "source": [
    "'''Q4. Write a Python program to solve quadractic equation? '''\n",
    "import cmath\n",
    "\n",
    "a = 1\n",
    "b = 1\n",
    "c = 2\n",
    "d = (b**2) - (4*a*c)\n",
    "ans1 = (-b-cmath.sqrt(d))/(2*a)\n",
    "ans2 = (-b+cmath.sqrt(d))/(2*a)\n",
    "print(\"The two possible answers are:\\n 1.\",ans1,\"\\n 2.\", ans2)"
   ]
  },
  {
   "cell_type": "code",
   "execution_count": 12,
   "metadata": {},
   "outputs": [
    {
     "name": "stdout",
     "output_type": "stream",
     "text": [
      "5 10\n"
     ]
    }
   ],
   "source": [
    "'''Q5. Write a Python program to swap two variables without temp variable? '''\n",
    "a,b=10,5\n",
    "a,b=b,a\n",
    "print(a,b)"
   ]
  }
 ],
 "metadata": {
  "kernelspec": {
   "display_name": "Python 3",
   "language": "python",
   "name": "python3"
  },
  "language_info": {
   "codemirror_mode": {
    "name": "ipython",
    "version": 3
   },
   "file_extension": ".py",
   "mimetype": "text/x-python",
   "name": "python",
   "nbconvert_exporter": "python",
   "pygments_lexer": "ipython3",
   "version": "3.8.3"
  }
 },
 "nbformat": 4,
 "nbformat_minor": 4
}
